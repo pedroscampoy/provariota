{
 "cells": [
  {
   "cell_type": "code",
   "execution_count": 1,
   "metadata": {},
   "outputs": [],
   "source": [
    "import os\n",
    "import sys\n",
    "import re\n",
    "import subprocess"
   ]
  },
  {
   "cell_type": "code",
   "execution_count": 31,
   "metadata": {},
   "outputs": [],
   "source": [
    "def get_bbduk_adapters():\n",
    "    type_route = subprocess.run([\"whereis\", \"bbduk.sh\"],stdout=subprocess.PIPE, stderr=subprocess.PIPE, check=True, universal_newlines=True) \n",
    "    regex = re.compile(r'\\/.*\\.sh')\n",
    "    adapter_route = re.search(regex, type_route.stdout).group().split(\"/\")[0:-2]\n",
    "    partial_path = \"/\".join(adapter_route)\n",
    "    \n",
    "    full_adapter_path = subprocess.run([\"find\", partial_path, \"-name\", \"adapters.fa\"],stdout=subprocess.PIPE, stderr=subprocess.PIPE, check=True, universal_newlines=True)\n",
    "    \n",
    "    final_path_adapters = full_adapter_path.stdout.split(\"\\n\")[0]\n",
    "    \n",
    "    return final_path_adapters"
   ]
  },
  {
   "cell_type": "code",
   "execution_count": 32,
   "metadata": {},
   "outputs": [
    {
     "data": {
      "text/plain": [
       "<function __main__.get_bbduk_adapters()>"
      ]
     },
     "execution_count": 32,
     "metadata": {},
     "output_type": "execute_result"
    }
   ],
   "source": [
    "get_bbduk_adapters"
   ]
  },
  {
   "cell_type": "code",
   "execution_count": 30,
   "metadata": {},
   "outputs": [
    {
     "data": {
      "text/plain": [
       "'/home/pjsola/.conda/envs/pjsola/opt/bbmap-38.73-0/resources/adapters.fa'"
      ]
     },
     "execution_count": 30,
     "metadata": {},
     "output_type": "execute_result"
    }
   ],
   "source": [
    "type_route = subprocess.run([\"whereis\", \"bbduk.sh\"],stdout=subprocess.PIPE, stderr=subprocess.PIPE, check=True, universal_newlines=True) \n",
    "regex = re.compile(r'\\/.*\\.sh')\n",
    "adapter_route = re.search(regex, type_route.stdout).group().split(\"/\")[0:-2]\n",
    "partial_path = \"/\".join(adapter_route)\n",
    "partial_path\n",
    "full_adapter_path = subprocess.run([\"find\", partial_path, \"-name\", \"adapters.fa\"],stdout=subprocess.PIPE, stderr=subprocess.PIPE, check=True, universal_newlines=True)\n",
    "full_adapter_path.stdout.split(\"\\n\")[0]"
   ]
  },
  {
   "cell_type": "code",
   "execution_count": 8,
   "metadata": {},
   "outputs": [
    {
     "data": {
      "text/plain": [
       "'bbduk: /home/pjsola/.conda/envs/pjsola/bin/bbduk.sh\\n'"
      ]
     },
     "execution_count": 8,
     "metadata": {},
     "output_type": "execute_result"
    }
   ],
   "source": [
    "type_route.stdout"
   ]
  },
  {
   "cell_type": "code",
   "execution_count": 10,
   "metadata": {},
   "outputs": [
    {
     "data": {
      "text/plain": [
       "'/home/pjsola/.conda/envs/pjsola/share/snpeff-4.3.1t-3/snpEff.config'"
      ]
     },
     "execution_count": 10,
     "metadata": {},
     "output_type": "execute_result"
    }
   ],
   "source": [
    "type_route = subprocess.run([\"whereis\", \"snpEff\"],stdout=subprocess.PIPE, stderr=subprocess.PIPE, check=True, universal_newlines=True) \n",
    "regex = re.compile(r'\\/.*')\n",
    "adapter_route = re.search(regex, type_route.stdout).group().strip().split(\"/\")[0:-2]\n",
    "partial_path = \"/\".join(adapter_route)\n",
    "\n",
    "snpEff_config_path = subprocess.run([\"find\", partial_path, \"-name\", \"snpEff.config\"],stdout=subprocess.PIPE, stderr=subprocess.PIPE, check=True, universal_newlines=True)\n",
    "\n",
    "final_path_config = full_adapter_path.stdout.split(\"\\n\")[0]\n",
    "final_path_config"
   ]
  },
  {
   "cell_type": "code",
   "execution_count": 7,
   "metadata": {},
   "outputs": [
    {
     "data": {
      "text/plain": [
       "CompletedProcess(args=['whereis', 'snpEff'], returncode=0, stdout='snpEff: /home/pjsola/.conda/envs/pjsola/bin/snpEff\\n', stderr='')"
      ]
     },
     "execution_count": 7,
     "metadata": {},
     "output_type": "execute_result"
    }
   ],
   "source": [
    "type_route = subprocess.run([\"whereis\", \"snpEff\"],stdout=subprocess.PIPE, stderr=subprocess.PIPE, check=True, universal_newlines=True) \n",
    "type_route"
   ]
  },
  {
   "cell_type": "code",
   "execution_count": null,
   "metadata": {},
   "outputs": [],
   "source": []
  }
 ],
 "metadata": {
  "kernelspec": {
   "display_name": "Python 3",
   "language": "python",
   "name": "python3"
  },
  "language_info": {
   "codemirror_mode": {
    "name": "ipython",
    "version": 3
   },
   "file_extension": ".py",
   "mimetype": "text/x-python",
   "name": "python",
   "nbconvert_exporter": "python",
   "pygments_lexer": "ipython3",
   "version": "3.6.9"
  }
 },
 "nbformat": 4,
 "nbformat_minor": 2
}
