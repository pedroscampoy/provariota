{
 "cells": [
  {
   "cell_type": "code",
   "execution_count": 15,
   "metadata": {},
   "outputs": [],
   "source": [
    "import pandas as pd\n",
    "import numpy as np\n",
    "import os\n",
    "import sys\n",
    "import re\n",
    "import matplotlib.pyplot as plt\n",
    "import seaborn as sns\n",
    "from Bio import SeqIO\n",
    "from Bio.SeqRecord import SeqRecord\n",
    "from Bio.Seq import Seq\n",
    "from Bio.Alphabet import IUPAC\n",
    "from matplotlib_venn import venn2\n",
    "from matplotlib_venn import venn3"
   ]
  },
  {
   "cell_type": "code",
   "execution_count": 16,
   "metadata": {},
   "outputs": [],
   "source": [
    "def import_VCF4_to_pandas(vcf_file, sep='\\t'):\n",
    "    header_lines = 0\n",
    "    with open(vcf_file) as f:\n",
    "        first_line = f.readline().strip()\n",
    "        next_line = f.readline().strip()\n",
    "        while next_line.startswith(\"##\"):\n",
    "            header_lines = header_lines + 1\n",
    "            #print(next_line)\n",
    "            next_line = f.readline()\n",
    "    \n",
    "    if first_line.endswith('VCFv4.2'):\n",
    "        \n",
    "        #Use first line as header\n",
    "        dataframe = pd.read_csv(vcf_file, sep=sep, skiprows=[header_lines], header=header_lines)\n",
    "        sample = dataframe.columns[-1]\n",
    "        dataframe.rename(columns={sample:'sample'}, inplace=True)\n",
    "        \n",
    "        for index in dataframe.index:\n",
    "            info_fields = re.findall(r';*([a-zA-Z]{1,20})=', dataframe.loc[index,'INFO'])\n",
    "            info_values = re.findall(r'-?\\d+\\.?\\d*e?[+-]?\\d{0,2}', dataframe.loc[index,'INFO'])\n",
    "            \n",
    "            format_fields = dataframe.loc[index,'FORMAT'].split(\":\")\n",
    "            format_values = dataframe.loc[index,'sample'].split(\":\")\n",
    "                                    \n",
    "            for ifield, ivalue in zip(info_fields,info_values):\n",
    "                dataframe.loc[index,ifield] = ivalue\n",
    "                \n",
    "            for ffield, fvalue in zip(format_fields,format_values):\n",
    "                dataframe.loc[index,ffield] = fvalue\n",
    "            #if len(format_values[1].split(\",\")) != 2:\n",
    "            #    print(format_values[1].split(\",\"), index)\n",
    "            #    print(dataframe.iloc[index])\n",
    "        dataframe.rename(columns={'AF':'af'}, inplace=True)\n",
    "        dataframe['REF_AD'] = dataframe['AD'].str.split(\",\").str[-2:].str[0]\n",
    "        dataframe['ALT_AD'] = dataframe['AD'].str.split(\",\").str[-2:].str[1]\n",
    "        \n",
    "        to_float = ['QUAL', 'AC', 'af', 'AN', 'BaseQRankSum', 'DP', 'ExcessHet', 'FS',\n",
    "       'MLEAC', 'MLEAF', 'MQ', 'MQRankSum', 'QD', 'ReadPosRankSum', 'SOR','GQ','ALT_AD', 'REF_AD']\n",
    "        \n",
    "        to_int = ['POS']\n",
    "        \n",
    "        for column in dataframe.columns:\n",
    "            if column in to_float:\n",
    "                dataframe[column] = dataframe[column].astype(float)\n",
    "                \n",
    "        for column in dataframe.columns:\n",
    "            if column in to_int:\n",
    "                dataframe[column] = dataframe[column].astype(int)\n",
    "        \n",
    "        dataframe['aF'] = dataframe['REF_AD']/dataframe['DP']\n",
    "        dataframe['AF'] = dataframe['ALT_AD']/dataframe['DP']\n",
    "\n",
    "                \n",
    "    else:\n",
    "        print(\"This vcf file is not v4.2\")\n",
    "        sys.exit(1)\n",
    "           \n",
    "    return dataframe\n",
    "    "
   ]
  },
  {
   "cell_type": "code",
   "execution_count": 17,
   "metadata": {},
   "outputs": [
    {
     "ename": "FileNotFoundError",
     "evalue": "[Errno 2] No such file or directory: 'test/1mixed.vcf'",
     "output_type": "error",
     "traceback": [
      "\u001b[0;31m---------------------------------------------------------------------------\u001b[0m",
      "\u001b[0;31mFileNotFoundError\u001b[0m                         Traceback (most recent call last)",
      "\u001b[0;32m<ipython-input-17-1c815f187ac5>\u001b[0m in \u001b[0;36m<module>\u001b[0;34m\u001b[0m\n\u001b[1;32m     16\u001b[0m \u001b[0mdict_df\u001b[0m \u001b[0;34m=\u001b[0m \u001b[0;34m{\u001b[0m\u001b[0;34m}\u001b[0m\u001b[0;34m\u001b[0m\u001b[0;34m\u001b[0m\u001b[0m\n\u001b[1;32m     17\u001b[0m \u001b[0;32mfor\u001b[0m \u001b[0mvcf\u001b[0m\u001b[0;34m,\u001b[0m \u001b[0mdf_name\u001b[0m \u001b[0;32min\u001b[0m \u001b[0mzip\u001b[0m\u001b[0;34m(\u001b[0m\u001b[0mvcf_files\u001b[0m\u001b[0;34m,\u001b[0m \u001b[0msample_list_df_name\u001b[0m\u001b[0;34m)\u001b[0m\u001b[0;34m:\u001b[0m\u001b[0;34m\u001b[0m\u001b[0;34m\u001b[0m\u001b[0m\n\u001b[0;32m---> 18\u001b[0;31m     \u001b[0mdict_df\u001b[0m\u001b[0;34m[\u001b[0m\u001b[0mdf_name\u001b[0m\u001b[0;34m]\u001b[0m \u001b[0;34m=\u001b[0m \u001b[0mimport_VCF4_to_pandas\u001b[0m\u001b[0;34m(\u001b[0m\u001b[0mvcf\u001b[0m\u001b[0;34m)\u001b[0m\u001b[0;34m\u001b[0m\u001b[0;34m\u001b[0m\u001b[0m\n\u001b[0m",
      "\u001b[0;32m<ipython-input-16-abeac9e72425>\u001b[0m in \u001b[0;36mimport_VCF4_to_pandas\u001b[0;34m(vcf_file, sep)\u001b[0m\n\u001b[1;32m      1\u001b[0m \u001b[0;32mdef\u001b[0m \u001b[0mimport_VCF4_to_pandas\u001b[0m\u001b[0;34m(\u001b[0m\u001b[0mvcf_file\u001b[0m\u001b[0;34m,\u001b[0m \u001b[0msep\u001b[0m\u001b[0;34m=\u001b[0m\u001b[0;34m'\\t'\u001b[0m\u001b[0;34m)\u001b[0m\u001b[0;34m:\u001b[0m\u001b[0;34m\u001b[0m\u001b[0;34m\u001b[0m\u001b[0m\n\u001b[1;32m      2\u001b[0m     \u001b[0mheader_lines\u001b[0m \u001b[0;34m=\u001b[0m \u001b[0;36m0\u001b[0m\u001b[0;34m\u001b[0m\u001b[0;34m\u001b[0m\u001b[0m\n\u001b[0;32m----> 3\u001b[0;31m     \u001b[0;32mwith\u001b[0m \u001b[0mopen\u001b[0m\u001b[0;34m(\u001b[0m\u001b[0mvcf_file\u001b[0m\u001b[0;34m)\u001b[0m \u001b[0;32mas\u001b[0m \u001b[0mf\u001b[0m\u001b[0;34m:\u001b[0m\u001b[0;34m\u001b[0m\u001b[0;34m\u001b[0m\u001b[0m\n\u001b[0m\u001b[1;32m      4\u001b[0m         \u001b[0mfirst_line\u001b[0m \u001b[0;34m=\u001b[0m \u001b[0mf\u001b[0m\u001b[0;34m.\u001b[0m\u001b[0mreadline\u001b[0m\u001b[0;34m(\u001b[0m\u001b[0;34m)\u001b[0m\u001b[0;34m.\u001b[0m\u001b[0mstrip\u001b[0m\u001b[0;34m(\u001b[0m\u001b[0;34m)\u001b[0m\u001b[0;34m\u001b[0m\u001b[0;34m\u001b[0m\u001b[0m\n\u001b[1;32m      5\u001b[0m         \u001b[0mnext_line\u001b[0m \u001b[0;34m=\u001b[0m \u001b[0mf\u001b[0m\u001b[0;34m.\u001b[0m\u001b[0mreadline\u001b[0m\u001b[0;34m(\u001b[0m\u001b[0;34m)\u001b[0m\u001b[0;34m.\u001b[0m\u001b[0mstrip\u001b[0m\u001b[0;34m(\u001b[0m\u001b[0;34m)\u001b[0m\u001b[0;34m\u001b[0m\u001b[0;34m\u001b[0m\u001b[0m\n",
      "\u001b[0;31mFileNotFoundError\u001b[0m: [Errno 2] No such file or directory: 'test/1mixed.vcf'"
     ]
    }
   ],
   "source": [
    "vcf_1 = 'test/1mixed.vcf'\n",
    "vcf_2 = 'test/2mixed.vcf'\n",
    "vcf_3 = 'test/3mixed.vcf'\n",
    "vcf_4 = 'test/4mixed.vcf'\n",
    "vcf_5 = 'test/5mixed.vcf'\n",
    "\n",
    "vcf_files = [vcf_1, vcf_2, vcf_3, vcf_4, vcf_5]\n",
    "\n",
    "#reference=\"data/MTB_ancestorII_reference.fas\"\n",
    "\n",
    "#fasta_to_replace = SeqIO.read(reference,\"fasta\")\n",
    "\n",
    "sample_list = [\"1\", \"2\", \"3\", \"4\", \"5\"]\n",
    "sample_list_df_name = [sample + \"_df\" for sample in sample_list]\n",
    "\n",
    "dict_df = {}\n",
    "for vcf, df_name in zip(vcf_files, sample_list_df_name):\n",
    "    dict_df[df_name] = import_VCF4_to_pandas(vcf)"
   ]
  },
  {
   "cell_type": "code",
   "execution_count": null,
   "metadata": {},
   "outputs": [],
   "source": [
    "df1['AD'].str.split(\",\").str[-2:].str[1]"
   ]
  },
  {
   "cell_type": "code",
   "execution_count": null,
   "metadata": {},
   "outputs": [],
   "source": [
    "df = import_VCF4_to_pandas(vcf)"
   ]
  },
  {
   "cell_type": "code",
   "execution_count": null,
   "metadata": {},
   "outputs": [],
   "source": [
    "vcf = \"test/3mixed.snp.hf.vcf\"\n",
    "vcf2 = \"test/2mixed.snp.hf.vcf\""
   ]
  },
  {
   "cell_type": "code",
   "execution_count": null,
   "metadata": {},
   "outputs": [],
   "source": [
    "df1.head()"
   ]
  },
  {
   "cell_type": "code",
   "execution_count": null,
   "metadata": {},
   "outputs": [],
   "source": [
    "df1.dtypes"
   ]
  },
  {
   "cell_type": "code",
   "execution_count": null,
   "metadata": {},
   "outputs": [],
   "source": [
    "print(df.columns)"
   ]
  },
  {
   "cell_type": "code",
   "execution_count": null,
   "metadata": {},
   "outputs": [],
   "source": []
  }
 ],
 "metadata": {
  "kernelspec": {
   "display_name": "Python 3",
   "language": "python",
   "name": "python3"
  },
  "language_info": {
   "codemirror_mode": {
    "name": "ipython",
    "version": 3
   },
   "file_extension": ".py",
   "mimetype": "text/x-python",
   "name": "python",
   "nbconvert_exporter": "python",
   "pygments_lexer": "ipython3",
   "version": "3.6.7"
  }
 },
 "nbformat": 4,
 "nbformat_minor": 2
}
