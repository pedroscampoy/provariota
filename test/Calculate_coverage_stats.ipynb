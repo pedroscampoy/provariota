{
 "cells": [
  {
   "cell_type": "code",
   "execution_count": 1,
   "metadata": {},
   "outputs": [],
   "source": [
    "import os\n",
    "import pandas as pd\n",
    "\n",
    "pd.set_option('display.max_columns', None)"
   ]
  },
  {
   "cell_type": "code",
   "execution_count": 27,
   "metadata": {},
   "outputs": [],
   "source": [
    "directory = \"/media/NAS/Datos/MEZCLA_INVITRO_CAPTURA_ANALISIS/Coverages/SIN_PPES/sin_ppes_cov_20X\"\n",
    "test = \"/media/NAS/Datos/MEZCLA_INVITRO_CAPTURA_ANALISIS/Coverages/SIN_PPES/sin_ppes_cov_20X/15_S12_L001_.merged.bam.cov.SINPPE\"\n",
    "\n",
    "sin_captura = \"/media/NAS/Datos/MEZCLA_INVITRO_SINCAPTURA_ANALISIS/Coverages\""
   ]
  },
  {
   "cell_type": "code",
   "execution_count": 33,
   "metadata": {},
   "outputs": [],
   "source": [
    "def calculate_cov_stats(file_cov):\n",
    "    df = pd.read_csv(file_cov, sep=\"\\t\", names=[\"#CHROM\", \"POS\", \"COV\" ])\n",
    "    unmmaped_pos = len(df.POS[df.COV == 0].tolist())\n",
    "    pos_0_10 = len(df.POS[(df.COV > 0) & (df.COV <= 10)].tolist())\n",
    "    pos_10_20 = len(df.POS[(df.COV > 10) & (df.COV <= 20)].tolist())\n",
    "    pos_high20 = len(df.POS[(df.COV > 20)].tolist())\n",
    "    total_pos = df.shape[0]\n",
    "    unmmaped_prop = \"%.2f\" % ((unmmaped_pos/total_pos)*100)\n",
    "    prop_0_10 = \"%.2f\" % ((pos_0_10/total_pos)*100)\n",
    "    prop_10_20 = \"%.2f\" % ((pos_10_20/total_pos)*100)\n",
    "    prop_high20 = \"%.2f\" % ((pos_high20/total_pos)*100)\n",
    "    \n",
    "    mean_cov = \"%.2f\" % (df.COV.mean())\n",
    "    \n",
    "    return mean_cov, unmmaped_prop, prop_0_10, prop_10_20, prop_high20\n",
    "\n",
    "def obtain_group_cov_stats(directory, low_cov_threshold=20, unmmaped_threshold=20):\n",
    "    directory_path = os.path.abspath(directory)\n",
    "    \n",
    "    if directory_path.endswith(\"Coverage\"):\n",
    "        file_name = directory_path.split(\"/\")[-2]\n",
    "    else:\n",
    "        file_name = \"samples\"\n",
    "\n",
    "    output_file_name = file_name + \".coverage.tab\"\n",
    "    output_file = os.path.join(directory_path,output_file_name)\n",
    "\n",
    "    saples_low_covered = []\n",
    "\n",
    "    with open(output_file, \"w\") as outfile:\n",
    "            outfile.write(\"#SAMPLE\" + \"\\t\" + \"MEAN_COV\" + \"\\t\" + \"UNMMAPED_PROP\" + \"\\t\" + \"COV1-10X\" + \"\\t\" + \"COV10-20X\" + \"\\t\" + \"COV>20X\" + \"\\t\" + \"\\n\")\n",
    "            #print(\"#SAMPLE\" + \"\\t\" + \"MEAN_COV\" + \"\\t\" + \"UNMMAPED_PROP\" + \"\\t\" + \"COV1-10X\" + \"\\t\" + \"COV10-20X\" + \"\\t\" + \"COV>20X\" + \"\\t\" + \"\\n\")\n",
    "            for root, _, files in os.walk(directory_path):\n",
    "                for name in files:\n",
    "                    filename = os.path.join(root, name)\n",
    "                    file_name_cov = os.path.basename(filename)\n",
    "                    sample = file_name_cov.split(\".\")[0]\n",
    "                    if filename.endswith(\"cov\") and (os.path.getsize(filename) > 0):\n",
    "                        coverage_stats = calculate_cov_stats(filename)\n",
    "                        mean_cov = coverage_stats[0]\n",
    "                        unmmaped_prop = coverage_stats[1]\n",
    "                        if float(mean_cov) < low_cov_threshold or float(unmmaped_prop) > unmmaped_threshold:\n",
    "                            saples_low_covered.append(sample)\n",
    "                        outfile.write(sample + \"\\t\" + (\"\\t\").join(coverage_stats) + \"\\n\")\n",
    "                        #print((sample + \"\\t\" + (\"\\t\").join(coverage_stats)) + \"\\n\")\n",
    "\n",
    "    return saples_low_covered\n"
   ]
  },
  {
   "cell_type": "code",
   "execution_count": 34,
   "metadata": {},
   "outputs": [
    {
     "data": {
      "text/plain": [
       "('75.15', '0.43', '1.13', '2.21', '96.22')"
      ]
     },
     "execution_count": 34,
     "metadata": {},
     "output_type": "execute_result"
    }
   ],
   "source": [
    "calculate_cov_stats(test)"
   ]
  },
  {
   "cell_type": "code",
   "execution_count": 35,
   "metadata": {},
   "outputs": [
    {
     "name": "stdout",
     "output_type": "stream",
     "text": [
      "#SAMPLE\tMEAN_COV\tUNMMAPED_PROP\tCOV1-10X\tCOV10-20X\tCOV>20X\t\n",
      "\n",
      "8_S2_L001_\t47.99\t0.34\t2.42\t8.20\t89.04\n",
      "\n",
      "7_S8_L001_\t56.93\t0.35\t2.40\t6.08\t91.17\n",
      "\n",
      "13_S3_L001_\t65.43\t0.45\t1.36\t3.21\t94.98\n",
      "\n",
      "1_S4_L001_\t71.02\t0.27\t1.50\t3.17\t95.06\n",
      "\n",
      "2_S5_L001_\t73.77\t0.29\t1.92\t3.38\t94.40\n",
      "\n",
      "15_S12_L001_\t75.15\t0.43\t1.13\t2.21\t96.22\n",
      "\n",
      "11_S10_L001_\t81.07\t0.42\t1.30\t2.28\t96.00\n",
      "\n",
      "5_S7_L001_\t85.16\t0.22\t1.05\t1.81\t96.92\n",
      "\n",
      "3_S1_L001_\t86.33\t0.26\t1.40\t2.21\t96.14\n",
      "\n",
      "10_S9_L001_\t99.04\t0.25\t1.24\t1.67\t96.84\n",
      "\n",
      "12_S11_L001_\t165.60\t0.32\t0.57\t0.60\t98.51\n",
      "\n",
      "6_S6_L001_\t59.75\t0.27\t1.88\t4.75\t93.10\n",
      "\n"
     ]
    },
    {
     "data": {
      "text/plain": [
       "[]"
      ]
     },
     "execution_count": 35,
     "metadata": {},
     "output_type": "execute_result"
    }
   ],
   "source": [
    "obtain_group_cov_stats(directory)"
   ]
  },
  {
   "cell_type": "code",
   "execution_count": 32,
   "metadata": {},
   "outputs": [
    {
     "name": "stdout",
     "output_type": "stream",
     "text": [
      "#SAMPLE\tMEAN_COV\tUNMMAPED_PROP\tCOV1-10X\tCOV10-20X\tCOV>20X\t\n",
      "\n",
      "10_S9_L001_\t1.36\t40.51\t59.41\t0.03\t0.05\n",
      "\n",
      "11_S10_L001_\t1.08\t48.11\t51.83\t0.02\t0.04\n",
      "\n",
      "12_S11_L001_\t1.11\t46.25\t53.69\t0.02\t0.04\n",
      "\n",
      "13_S3_L001_\t0.92\t51.00\t48.94\t0.02\t0.04\n",
      "\n",
      "15_S12_L001_\t1.26\t40.40\t59.54\t0.02\t0.04\n",
      "\n",
      "1_S4_L001_\t1.13\t45.09\t54.85\t0.02\t0.04\n",
      "\n",
      "2_S5_L001_\t1.26\t43.64\t56.30\t0.03\t0.04\n",
      "\n",
      "3_S1_L001_\t1.17\t45.90\t54.03\t0.03\t0.04\n",
      "\n",
      "5_S7_L001_\t1.33\t39.83\t60.08\t0.03\t0.05\n",
      "\n",
      "6_S6_L001_\t0.94\t51.62\t48.32\t0.02\t0.04\n",
      "\n",
      "7_S8_L001_\t0.88\t55.62\t44.31\t0.02\t0.05\n",
      "\n",
      "8_S2_L001_\t0.87\t53.30\t46.64\t0.02\t0.04\n",
      "\n"
     ]
    },
    {
     "data": {
      "text/plain": [
       "['10_S9_L001_',\n",
       " '11_S10_L001_',\n",
       " '12_S11_L001_',\n",
       " '13_S3_L001_',\n",
       " '15_S12_L001_',\n",
       " '1_S4_L001_',\n",
       " '2_S5_L001_',\n",
       " '3_S1_L001_',\n",
       " '5_S7_L001_',\n",
       " '6_S6_L001_',\n",
       " '7_S8_L001_',\n",
       " '8_S2_L001_']"
      ]
     },
     "execution_count": 32,
     "metadata": {},
     "output_type": "execute_result"
    }
   ],
   "source": [
    "obtain_group_cov_stats(sin_captura)"
   ]
  },
  {
   "cell_type": "code",
   "execution_count": 7,
   "metadata": {},
   "outputs": [],
   "source": [
    "tup_test = ('15_S12_L001_', '75.15', '0.43', '1.13', '2.21', '96.22')"
   ]
  },
  {
   "cell_type": "code",
   "execution_count": 8,
   "metadata": {},
   "outputs": [
    {
     "data": {
      "text/plain": [
       "('15_S12_L001_', '75.15')"
      ]
     },
     "execution_count": 8,
     "metadata": {},
     "output_type": "execute_result"
    }
   ],
   "source": [
    "tup_test[0:2]"
   ]
  },
  {
   "cell_type": "code",
   "execution_count": 13,
   "metadata": {},
   "outputs": [
    {
     "name": "stdout",
     "output_type": "stream",
     "text": [
      "sample\t15_S12_L001_\t75.15\t0.43\t1.13\t2.21\t96.22\n"
     ]
    }
   ],
   "source": [
    "print(\"sample\" + \"\\t\" + (\"\\t\").join(tup_test))"
   ]
  },
  {
   "cell_type": "code",
   "execution_count": null,
   "metadata": {},
   "outputs": [],
   "source": []
  }
 ],
 "metadata": {
  "kernelspec": {
   "display_name": "Python 3",
   "language": "python",
   "name": "python3"
  },
  "language_info": {
   "codemirror_mode": {
    "name": "ipython",
    "version": 3
   },
   "file_extension": ".py",
   "mimetype": "text/x-python",
   "name": "python",
   "nbconvert_exporter": "python",
   "pygments_lexer": "ipython3",
   "version": "3.6.8"
  }
 },
 "nbformat": 4,
 "nbformat_minor": 2
}
