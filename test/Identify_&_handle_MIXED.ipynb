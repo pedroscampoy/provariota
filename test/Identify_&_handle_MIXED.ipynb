{
 "cells": [
  {
   "cell_type": "code",
   "execution_count": 22,
   "metadata": {},
   "outputs": [],
   "source": [
    "import os\n",
    "import re\n",
    "import pandas as pd\n",
    "\n",
    "pd.set_option('display.max_columns', None)"
   ]
  },
  {
   "cell_type": "code",
   "execution_count": 154,
   "metadata": {},
   "outputs": [],
   "source": [
    "folder = \"/home/laura/ANALYSIS/SNPTB/190624_Anotation_test/Table\"\n",
    "folder2 = \"/home/laura/ANALYSIS/SNPTB/190617_all_coinfection/Table\""
   ]
  },
  {
   "cell_type": "code",
   "execution_count": 149,
   "metadata": {},
   "outputs": [],
   "source": [
    "def extrach_variants_summary(vcf_table, distance=15, quality=10 ):\n",
    "    sample = vcf_table.split(\"/\")[-1].split(\".\")[0]\n",
    "    \n",
    "    df = pd.read_csv(vcf_table, sep=\"\\t\", header=0)\n",
    "    \n",
    "    total_snp = len(df[df.TYPE == \"SNP\"].index)\n",
    "    total_indels = len(df[df.TYPE == \"INDEL\"].index)\n",
    "    total_homozygous = len(df[(df.TYPE == \"SNP\") & (df.gt0 == 1)].index)\n",
    "    total_heterozygous = len(df[(df.TYPE == \"SNP\") & (df.gt0 == 0)].index)\n",
    "    median_allele_freq = \"%.2f\" % (df.AF[df.TYPE == \"SNP\"].median())\n",
    "    mean_allele_freq = \"%.2f\" % (df.AF[df.TYPE == \"SNP\"].mean())\n",
    "    \n",
    "    distance = distance\n",
    "    QD = quality\n",
    "    position_to_filter = df['POS'][((df.snp_left_distance <= distance)|\n",
    "                                (df.snp_right_distance <= distance)|\n",
    "                                (df.window_10 >= 2)|\n",
    "                                (df.AF <= 0.0) |\n",
    "                                (df.len_AD > 2) |\n",
    "                                (df.TYPE != \"SNP\") |\n",
    "                                (df.QD <= QD) |\n",
    "                                (df.highly_hetz == True) |\n",
    "                                (df.poorly_covered == True) |\n",
    "                                (df.non_genotyped == True) |\n",
    "                                (df.is_polymorphic == True))].tolist()\n",
    "    \n",
    "    filtered_df = df[~df.POS.isin(position_to_filter)]\n",
    "    \n",
    "    filtered_df_htz = filtered_df[filtered_df.gt0 == 0]\n",
    "    \n",
    "    ftotal_snp = len(filtered_df[filtered_df.TYPE == \"SNP\"].index)\n",
    "    ftotal_homozygous = len(filtered_df[(filtered_df.TYPE == \"SNP\") & (filtered_df.gt0 == 1)].index)\n",
    "    ftotal_heterozygous = len(filtered_df[(filtered_df.TYPE == \"SNP\") & (filtered_df.gt0 == 0)].index)\n",
    "    fmedian_allele_freq = \"%.2f\" % (filtered_df.AF[filtered_df.TYPE == \"SNP\"].median())\n",
    "    fmean_allele_freq = \"%.2f\" % (filtered_df.AF[filtered_df.TYPE == \"SNP\"].mean())\n",
    "    fmean_allele_freq_htz = \"%.2f\" % (filtered_df_htz.AF[filtered_df_htz.TYPE == \"SNP\"].mean())\n",
    "    \n",
    "    output = [sample,\n",
    "              total_snp,\n",
    "              total_indels,\n",
    "              total_homozygous,\n",
    "              total_heterozygous,\n",
    "              median_allele_freq,\n",
    "              mean_allele_freq,\n",
    "              ftotal_snp,\n",
    "              ftotal_homozygous,\n",
    "              ftotal_heterozygous,\n",
    "              fmedian_allele_freq,\n",
    "              fmean_allele_freq,\n",
    "              fmean_allele_freq_htz]\n",
    "    output = [str(x) for x in output]\n",
    "    \n",
    "    return \"\\t\".join(output)"
   ]
  },
  {
   "cell_type": "code",
   "execution_count": 158,
   "metadata": {},
   "outputs": [],
   "source": [
    "def vcf_stats(folder_table, distance=15, quality=10):\n",
    "    \n",
    "    out_file = os.path.join(folder_table, \"vcf_stat.tab\")\n",
    "    mixed_samples = []\n",
    "    \n",
    "    with open(out_file, 'w+') as fout:\n",
    "        fout.write(\"\\t\".join([\"SAMPLE\", \n",
    "                              \"#SNP\", \n",
    "                              \"#INDELS\", \n",
    "                              \"#HOMOZ_SNP\", \n",
    "                              \"#HETZ_SNP\", \n",
    "                              \"MEDIAN_AF_SNP\", \n",
    "                              \"MEAN_AF_SNP\", \n",
    "                              \"#FSNP\", \n",
    "                              \"#FHOMOZ_SNP\", \n",
    "                              \"#FHETZ_SNP\", \n",
    "                              \"FMEDIAN_AF_SNP\",\n",
    "                              \"FMEAN_AF_SNP\",\n",
    "                              \"FMEAN_AF_SNP_HTZ\"]))\n",
    "        fout.write(\"\\n\")\n",
    "        for root, _, files in os.walk(folder_table):\n",
    "            for name in files:\n",
    "                filename = os.path.join(root, name)\n",
    "                if filename.endswith(\"raw.tab\"):\n",
    "                    line = extrach_variants_summary(filename)\n",
    "                    line_split = line.split(\"\\t\")\n",
    "                    sample = line_split[0]\n",
    "                    htz_filtered = line_split[9]\n",
    "                    if int(htz_filtered) > 100:\n",
    "                        mixed_samples.append(sample)\n",
    "                    fout.write(line)\n",
    "                    fout.write(\"\\n\")\n",
    "    return mixed_samples"
   ]
  },
  {
   "cell_type": "code",
   "execution_count": 160,
   "metadata": {},
   "outputs": [
    {
     "data": {
      "text/plain": [
       "['7mixed', '6mixed']"
      ]
     },
     "execution_count": 160,
     "metadata": {},
     "output_type": "execute_result"
    }
   ],
   "source": [
    "vcf_stats(folder)"
   ]
  },
  {
   "cell_type": "code",
   "execution_count": 8,
   "metadata": {},
   "outputs": [],
   "source": [
    "file = \"/home/laura/ANALYSIS/SNPTB/190624_Anotation_test/Table/HIS-25198169.combined.hf.raw.tab\"\n"
   ]
  },
  {
   "cell_type": "code",
   "execution_count": 97,
   "metadata": {},
   "outputs": [
    {
     "name": "stdout",
     "output_type": "stream",
     "text": [
      "HIS-25198169\t1616\t428\t1124\t488\t1.00\n"
     ]
    }
   ],
   "source": [
    "extrach_variants_summary(file)"
   ]
  },
  {
   "cell_type": "code",
   "execution_count": 88,
   "metadata": {},
   "outputs": [],
   "source": [
    "posiciones = [1977, 9304]"
   ]
  },
  {
   "cell_type": "code",
   "execution_count": 89,
   "metadata": {},
   "outputs": [
    {
     "data": {
      "text/html": [
       "<div>\n",
       "<style scoped>\n",
       "    .dataframe tbody tr th:only-of-type {\n",
       "        vertical-align: middle;\n",
       "    }\n",
       "\n",
       "    .dataframe tbody tr th {\n",
       "        vertical-align: top;\n",
       "    }\n",
       "\n",
       "    .dataframe thead th {\n",
       "        text-align: right;\n",
       "    }\n",
       "</style>\n",
       "<table border=\"1\" class=\"dataframe\">\n",
       "  <thead>\n",
       "    <tr style=\"text-align: right;\">\n",
       "      <th></th>\n",
       "      <th>#CHROM</th>\n",
       "      <th>POS</th>\n",
       "      <th>ID</th>\n",
       "      <th>REF</th>\n",
       "      <th>ALT</th>\n",
       "      <th>QUAL</th>\n",
       "      <th>FILTER</th>\n",
       "      <th>INFO</th>\n",
       "      <th>FORMAT</th>\n",
       "      <th>sample</th>\n",
       "      <th>AC</th>\n",
       "      <th>af</th>\n",
       "      <th>AN</th>\n",
       "      <th>BaseQRankSum</th>\n",
       "      <th>DP</th>\n",
       "      <th>ExcessHet</th>\n",
       "      <th>FS</th>\n",
       "      <th>MQ</th>\n",
       "      <th>MQRankSum</th>\n",
       "      <th>QD</th>\n",
       "      <th>ReadPosRankSum</th>\n",
       "      <th>SOR</th>\n",
       "      <th>GT</th>\n",
       "      <th>AD</th>\n",
       "      <th>GQ</th>\n",
       "      <th>PL</th>\n",
       "      <th>PGT</th>\n",
       "      <th>PID</th>\n",
       "      <th>PS</th>\n",
       "      <th>len_AD</th>\n",
       "      <th>REF_AD</th>\n",
       "      <th>ALT_AD</th>\n",
       "      <th>gt0</th>\n",
       "      <th>gt1</th>\n",
       "      <th>TYPE</th>\n",
       "      <th>dp</th>\n",
       "      <th>aF</th>\n",
       "      <th>AF</th>\n",
       "      <th>is_polymorphic</th>\n",
       "      <th>highly_hetz</th>\n",
       "      <th>non_genotyped</th>\n",
       "      <th>poorly_covered</th>\n",
       "      <th>snp_left_distance</th>\n",
       "      <th>snp_right_distance</th>\n",
       "      <th>indel_right_distance</th>\n",
       "      <th>indel_left_distance</th>\n",
       "      <th>window_10</th>\n",
       "      <th>window_20</th>\n",
       "      <th>window_30</th>\n",
       "    </tr>\n",
       "  </thead>\n",
       "  <tbody>\n",
       "    <tr>\n",
       "      <th>0</th>\n",
       "      <td>MTB_anc</td>\n",
       "      <td>1977</td>\n",
       "      <td>.</td>\n",
       "      <td>G</td>\n",
       "      <td>A</td>\n",
       "      <td>2420.24</td>\n",
       "      <td>PASS</td>\n",
       "      <td>AC=2;AF=1.00;AN=2;BaseQRankSum=0.548;DP=28;Exc...</td>\n",
       "      <td>GT:AD:DP:GQ:PL</td>\n",
       "      <td>1/1:0,28:28:82:948,82,0</td>\n",
       "      <td>2.0</td>\n",
       "      <td>1.0</td>\n",
       "      <td>2.0</td>\n",
       "      <td>0.548</td>\n",
       "      <td>28.0</td>\n",
       "      <td>0.1902</td>\n",
       "      <td>0.0</td>\n",
       "      <td>60.0</td>\n",
       "      <td>0.0</td>\n",
       "      <td>34.09</td>\n",
       "      <td>0.686</td>\n",
       "      <td>1.981</td>\n",
       "      <td>1/1</td>\n",
       "      <td>0,28</td>\n",
       "      <td>82.0</td>\n",
       "      <td>948,82,0</td>\n",
       "      <td>NaN</td>\n",
       "      <td>NaN</td>\n",
       "      <td>NaN</td>\n",
       "      <td>2</td>\n",
       "      <td>0.0</td>\n",
       "      <td>28.0</td>\n",
       "      <td>1</td>\n",
       "      <td>1</td>\n",
       "      <td>SNP</td>\n",
       "      <td>28.0</td>\n",
       "      <td>0.0</td>\n",
       "      <td>1.0</td>\n",
       "      <td>False</td>\n",
       "      <td>False</td>\n",
       "      <td>False</td>\n",
       "      <td>False</td>\n",
       "      <td>1977.0</td>\n",
       "      <td>555.0</td>\n",
       "      <td>NaN</td>\n",
       "      <td>NaN</td>\n",
       "      <td>1</td>\n",
       "      <td>1</td>\n",
       "      <td>1</td>\n",
       "    </tr>\n",
       "    <tr>\n",
       "      <th>4</th>\n",
       "      <td>MTB_anc</td>\n",
       "      <td>9304</td>\n",
       "      <td>.</td>\n",
       "      <td>A</td>\n",
       "      <td>G</td>\n",
       "      <td>4905.24</td>\n",
       "      <td>PASS</td>\n",
       "      <td>AC=2;AF=1.00;AN=2;DP=53;ExcessHet=0.1902;FS=0....</td>\n",
       "      <td>GT:AD:DP:GQ:PL</td>\n",
       "      <td>1/1:0,53:53:99:2138,159,0</td>\n",
       "      <td>2.0</td>\n",
       "      <td>1.0</td>\n",
       "      <td>2.0</td>\n",
       "      <td>NaN</td>\n",
       "      <td>53.0</td>\n",
       "      <td>0.1902</td>\n",
       "      <td>0.0</td>\n",
       "      <td>60.0</td>\n",
       "      <td>NaN</td>\n",
       "      <td>28.73</td>\n",
       "      <td>NaN</td>\n",
       "      <td>0.902</td>\n",
       "      <td>1/1</td>\n",
       "      <td>0,53</td>\n",
       "      <td>99.0</td>\n",
       "      <td>2138,159,0</td>\n",
       "      <td>NaN</td>\n",
       "      <td>NaN</td>\n",
       "      <td>NaN</td>\n",
       "      <td>2</td>\n",
       "      <td>0.0</td>\n",
       "      <td>53.0</td>\n",
       "      <td>1</td>\n",
       "      <td>1</td>\n",
       "      <td>SNP</td>\n",
       "      <td>53.0</td>\n",
       "      <td>0.0</td>\n",
       "      <td>1.0</td>\n",
       "      <td>False</td>\n",
       "      <td>False</td>\n",
       "      <td>False</td>\n",
       "      <td>False</td>\n",
       "      <td>161.0</td>\n",
       "      <td>4156.0</td>\n",
       "      <td>NaN</td>\n",
       "      <td>NaN</td>\n",
       "      <td>1</td>\n",
       "      <td>1</td>\n",
       "      <td>1</td>\n",
       "    </tr>\n",
       "  </tbody>\n",
       "</table>\n",
       "</div>"
      ],
      "text/plain": [
       "    #CHROM   POS ID REF ALT     QUAL FILTER  \\\n",
       "0  MTB_anc  1977  .   G   A  2420.24   PASS   \n",
       "4  MTB_anc  9304  .   A   G  4905.24   PASS   \n",
       "\n",
       "                                                INFO          FORMAT  \\\n",
       "0  AC=2;AF=1.00;AN=2;BaseQRankSum=0.548;DP=28;Exc...  GT:AD:DP:GQ:PL   \n",
       "4  AC=2;AF=1.00;AN=2;DP=53;ExcessHet=0.1902;FS=0....  GT:AD:DP:GQ:PL   \n",
       "\n",
       "                      sample   AC   af   AN  BaseQRankSum    DP  ExcessHet  \\\n",
       "0    1/1:0,28:28:82:948,82,0  2.0  1.0  2.0         0.548  28.0     0.1902   \n",
       "4  1/1:0,53:53:99:2138,159,0  2.0  1.0  2.0           NaN  53.0     0.1902   \n",
       "\n",
       "    FS    MQ  MQRankSum     QD  ReadPosRankSum    SOR   GT    AD    GQ  \\\n",
       "0  0.0  60.0        0.0  34.09           0.686  1.981  1/1  0,28  82.0   \n",
       "4  0.0  60.0        NaN  28.73             NaN  0.902  1/1  0,53  99.0   \n",
       "\n",
       "           PL  PGT  PID  PS  len_AD  REF_AD  ALT_AD  gt0  gt1 TYPE    dp   aF  \\\n",
       "0    948,82,0  NaN  NaN NaN       2     0.0    28.0    1    1  SNP  28.0  0.0   \n",
       "4  2138,159,0  NaN  NaN NaN       2     0.0    53.0    1    1  SNP  53.0  0.0   \n",
       "\n",
       "    AF  is_polymorphic  highly_hetz  non_genotyped  poorly_covered  \\\n",
       "0  1.0           False        False          False           False   \n",
       "4  1.0           False        False          False           False   \n",
       "\n",
       "   snp_left_distance  snp_right_distance  indel_right_distance  \\\n",
       "0             1977.0               555.0                   NaN   \n",
       "4              161.0              4156.0                   NaN   \n",
       "\n",
       "   indel_left_distance  window_10  window_20  window_30  \n",
       "0                  NaN          1          1          1  \n",
       "4                  NaN          1          1          1  "
      ]
     },
     "execution_count": 89,
     "metadata": {},
     "output_type": "execute_result"
    }
   ],
   "source": [
    "testdf[testdf.POS.isin(posiciones)]"
   ]
  },
  {
   "cell_type": "code",
   "execution_count": 9,
   "metadata": {},
   "outputs": [],
   "source": [
    "testdf = pd.read_csv(file, sep=\"\\t\", header=0)"
   ]
  },
  {
   "cell_type": "code",
   "execution_count": 12,
   "metadata": {},
   "outputs": [
    {
     "data": {
      "text/plain": [
       "(2044, 49)"
      ]
     },
     "execution_count": 12,
     "metadata": {},
     "output_type": "execute_result"
    }
   ],
   "source": [
    "testdf.shape"
   ]
  },
  {
   "cell_type": "code",
   "execution_count": 27,
   "metadata": {},
   "outputs": [
    {
     "data": {
      "text/plain": [
       "1616"
      ]
     },
     "execution_count": 27,
     "metadata": {},
     "output_type": "execute_result"
    }
   ],
   "source": [
    "len(testdf[testdf.TYPE == \"SNP\"].index)"
   ]
  },
  {
   "cell_type": "code",
   "execution_count": 26,
   "metadata": {},
   "outputs": [
    {
     "data": {
      "text/plain": [
       "1616"
      ]
     },
     "execution_count": 26,
     "metadata": {},
     "output_type": "execute_result"
    }
   ],
   "source": [
    "testdf[testdf.TYPE == \"SNP\"].shape[0]"
   ]
  },
  {
   "cell_type": "code",
   "execution_count": 76,
   "metadata": {},
   "outputs": [
    {
     "data": {
      "text/plain": [
       "'1.00'"
      ]
     },
     "execution_count": 76,
     "metadata": {},
     "output_type": "execute_result"
    }
   ],
   "source": [
    "\"%.2f\" % (testdf.AF.median())"
   ]
  },
  {
   "cell_type": "code",
   "execution_count": 83,
   "metadata": {},
   "outputs": [
    {
     "data": {
      "text/plain": [
       "1.0"
      ]
     },
     "execution_count": 83,
     "metadata": {},
     "output_type": "execute_result"
    }
   ],
   "source": [
    "testdf.AF[testdf.TYPE == \"SNP\"].median()"
   ]
  },
  {
   "cell_type": "code",
   "execution_count": 49,
   "metadata": {},
   "outputs": [],
   "source": [
    "#testdf[(testdf.TYPE == \"SNP\") & (testdf.gt0 == 0)]"
   ]
  },
  {
   "cell_type": "code",
   "execution_count": null,
   "metadata": {},
   "outputs": [],
   "source": [
    "df_vcf['POS'][((df_vcf.snp_left_distance <= distance)|\n",
    "                                (df_vcf.snp_right_distance <= distance)|\n",
    "                                (df_vcf.Window_10 >= 2)|\n",
    "                                (df_vcf.Is_repeat == True) |\n",
    "                                (df_vcf.AF <= 0.0) |\n",
    "                                (df_vcf.len_AD > 2) |\n",
    "                                (df_vcf.QD <= QD))].tolist()"
   ]
  },
  {
   "cell_type": "markdown",
   "metadata": {},
   "source": [
    "# Handle mixed samples"
   ]
  },
  {
   "cell_type": "code",
   "execution_count": 161,
   "metadata": {},
   "outputs": [],
   "source": [
    "out_folder = \"/home/laura/ANALYSIS/SNPTB/190624_Anotation_test\"\n",
    "list_mixed = [\"6mixed\", \"7mixed\"]"
   ]
  },
  {
   "cell_type": "code",
   "execution_count": 165,
   "metadata": {},
   "outputs": [],
   "source": [
    "def check_create_dir(path):\n",
    "    #exists = os.path.isfile(path)\n",
    "    #exists = os.path.isdir(path)\n",
    "    if os.path.exists(path):\n",
    "        pass\n",
    "    else:\n",
    "        os.mkdir(path)"
   ]
  },
  {
   "cell_type": "code",
   "execution_count": 176,
   "metadata": {},
   "outputs": [],
   "source": [
    "def remove_low_covered_mixed(output_dir, sample_list, type_remove):\n",
    "    output_dir = os.path.abspath(output_dir)\n",
    "    group = output_dir.split(\"/\")[-1]\n",
    "    uncovered_dir = os.path.join(output_dir, type_remove) #Uncovered or Mixed\n",
    "    check_create_dir(uncovered_dir)\n",
    "\n",
    "    sample_list_file = os.path.join(output_dir, \"sample_list.txt\")\n",
    "    \n",
    "    for root, _, files in os.walk(output_dir):\n",
    "        #Any previous file created except for Table for mixed samples\n",
    "        # and Species for both uncovered and mixed\n",
    "        if root.endswith('GVCF_recal') or root.endswith('Coverage') \\\n",
    "        or root.endswith('VCF') or root.endswith('VCF_recal') \\\n",
    "        or root.endswith('Bam') or root.endswith('GVCF'):\n",
    "            for name in files:\n",
    "                filename = os.path.join(root, name)\n",
    "                for sample_low in sample_list:\n",
    "                    if name.startswith(sample_low):\n",
    "                        print(filename)\n",
    "                        os.remove(filename)\n",
    "        \"\"\"\n",
    "        #Remove .cov to avoid its recalculation\n",
    "        if root.endswith('Coverage'):\n",
    "            for name in files:\n",
    "                filename = os.path.join(root, name)\n",
    "                for sample_low in sample_list:\n",
    "                    if name.startswith(sample_low):\n",
    "                        print(filename)\n",
    "                        #os.remove(filename)\n",
    "        \"\"\"\n",
    "        #Place low covered samples in a specific folder to analize them with different parameters\n",
    "        if root.endswith(group):\n",
    "            for name in files:\n",
    "                filename = os.path.join(root, name)\n",
    "                for sample_low in sample_list:\n",
    "                    if name.startswith(sample_low) and name.endswith(\"fastq.gz\"):\n",
    "                        dest_uncovered_path = os.path.join(uncovered_dir, name)\n",
    "                        print(filename, dest_uncovered_path)\n",
    "                        os.rename(filename, dest_uncovered_path)\n",
    "    if os.path.isfile(sample_list_file):\n",
    "        edit_sample_list(sample_list_file, sample_list)"
   ]
  },
  {
   "cell_type": "code",
   "execution_count": 178,
   "metadata": {},
   "outputs": [],
   "source": [
    "remove_low_covered_mixed(out_folder, list_mixed, \"Mixed\")"
   ]
  },
  {
   "cell_type": "code",
   "execution_count": null,
   "metadata": {},
   "outputs": [],
   "source": []
  }
 ],
 "metadata": {
  "kernelspec": {
   "display_name": "Python 3",
   "language": "python",
   "name": "python3"
  },
  "language_info": {
   "codemirror_mode": {
    "name": "ipython",
    "version": 3
   },
   "file_extension": ".py",
   "mimetype": "text/x-python",
   "name": "python",
   "nbconvert_exporter": "python",
   "pygments_lexer": "ipython3",
   "version": "3.6.8"
  }
 },
 "nbformat": 4,
 "nbformat_minor": 2
}
