{
 "cells": [
  {
   "cell_type": "code",
   "execution_count": 1,
   "metadata": {},
   "outputs": [],
   "source": [
    "import pandas as pd\n",
    "import os"
   ]
  },
  {
   "cell_type": "code",
   "execution_count": 2,
   "metadata": {},
   "outputs": [],
   "source": [
    "snp = \"190722_Clusters_Almeria.cohort.snp.hf.vcf\"\n",
    "indel = \"190722_Clusters_Almeria.cohort.indel.hf.vcf\""
   ]
  },
  {
   "cell_type": "code",
   "execution_count": 13,
   "metadata": {},
   "outputs": [],
   "source": [
    "def extract_reference_vcf(input_vcf):\n",
    "    \"\"\"\n",
    "    Read file until header ends and pick the first field corresponding to reference\n",
    "    \"\"\"\n",
    "    with open(input_vcf, \"r\") as f:\n",
    "        next_line = f.readline().strip()\n",
    "        while next_line.startswith(\"#\"):\n",
    "            #print(next_line)\n",
    "            next_line = f.readline()\n",
    "        \n",
    "    reference = next_line.split()[0]\n",
    "    return reference"
   ]
  },
  {
   "cell_type": "code",
   "execution_count": 14,
   "metadata": {},
   "outputs": [
    {
     "data": {
      "text/plain": [
       "'MTB_anc'"
      ]
     },
     "execution_count": 14,
     "metadata": {},
     "output_type": "execute_result"
    }
   ],
   "source": [
    "extract_reference_vcf(snp)"
   ]
  },
  {
   "cell_type": "code",
   "execution_count": 14,
   "metadata": {},
   "outputs": [
    {
     "data": {
      "text/plain": [
       "'fcv.fh.ledni.trohoc.airemlA_sretsulC_227091'"
      ]
     },
     "execution_count": 14,
     "metadata": {},
     "output_type": "execute_result"
    }
   ],
   "source": [
    "indel[::-1]"
   ]
  },
  {
   "cell_type": "code",
   "execution_count": 15,
   "metadata": {},
   "outputs": [],
   "source": [
    "def longest_common_suffix(list_of_strings):\n",
    "    \"\"\"\n",
    "    Return the longest common suffix in a list of strings\n",
    "    Adapted from https://gist.github.com/willwest/ca5d050fdf15232a9e67\n",
    "    \"\"\"\n",
    "    reversed_strings = [s[::-1] for s in list_of_strings]\n",
    "    reversed_lcs = os.path.commonprefix(reversed_strings)\n",
    "    lcs = reversed_lcs[::-1]\n",
    "    return lcs"
   ]
  },
  {
   "cell_type": "code",
   "execution_count": 16,
   "metadata": {},
   "outputs": [],
   "source": [
    "def combine_vcf(vcf_file_1, vcf_file_2, name_out=False):\n",
    "    \"\"\"\n",
    "    Merge vcf files by position (POS) and ALT variants\n",
    "    \"\"\" \n",
    "    input_vcf_1 = os.path.abspath(vcf_file_1)\n",
    "    input_vcf_2 = os.path.abspath(vcf_file_2)\n",
    "    \n",
    "    input_vcf_dir_name = os.path.dirname(vcf_file_1)\n",
    "    \n",
    "    if name_out == False:\n",
    "        prefix = os.path.commonprefix([input_vcf_1, input_vcf_2])\n",
    "        suffix = longest_common_suffix([input_vcf_1, input_vcf_2])\n",
    "        output_file = prefix + \"combined\" + suffix\n",
    "        \n",
    "    else:\n",
    "        output_file = os.path.abspath(name_out)\n",
    "    \n",
    "    header_lines_list = []\n",
    "    header_lines_list_f1 = []\n",
    "    #Extract filter info from header since is the only difference between headers\n",
    "    with open(input_vcf_2, \"r\") as f2:\n",
    "            for line in f2:\n",
    "                if line.startswith(\"#\"):\n",
    "                    header_lines_list.append(line)\n",
    "                    \n",
    "    #Extract filter info from file1\n",
    "    with open(input_vcf_1, \"r\") as f1:\n",
    "        for line in f1:\n",
    "            if line.startswith(\"##FILTER\") and line not in header_lines_list:\n",
    "                header_lines_list_f1.append(line)\n",
    "                \n",
    "    #Combine header info, addiing filter info together\n",
    "    #Extract all lines starting with ##FILTER\n",
    "    filter_fields = [i for i in header_lines_list if i.startswith('##FILTER')]\n",
    "    #Obtain the index of the first line with index\n",
    "    filter_index = header_lines_list.index(filter_fields[0])\n",
    "    #Include the list within the header\n",
    "    header_lines_list[filter_index:filter_index] = header_lines_list_f1\n",
    "\n",
    "    variant_lines = []\n",
    "    \n",
    "    with open(input_vcf_1, \"r\") as f1:\n",
    "        with open(input_vcf_2, \"r\") as f2:\n",
    "            with open(output_file, \"w+\") as fout:\n",
    "                fout.write(\"\".join(header_lines_list))\n",
    "                for line in f1:\n",
    "                    if not line.startswith(\"#\"):\n",
    "                        variant_lines.append(line)\n",
    "                for line in f2:\n",
    "                    if not line.startswith(\"#\") and line not in variant_lines:\n",
    "                        variant_lines.append(line)\n",
    "                fout.write(\"\".join(variant_lines))"
   ]
  },
  {
   "cell_type": "code",
   "execution_count": null,
   "metadata": {},
   "outputs": [],
   "source": [
    "def combine_vcf_legacy(vcf_file_1, vcf_file_2, name_out=False):\n",
    "    \"\"\"\n",
    "    Merge vcf files by position (POS) and ALT variants\n",
    "    \"\"\" \n",
    "    input_vcf_1 = os.path.abspath(vcf_file_1)\n",
    "    input_vcf_2 = os.path.abspath(vcf_file_2)\n",
    "    #input_vcf_dir_name = os.path.dirname(vcf_file_1)\n",
    "    \n",
    "    if name_out == False:\n",
    "        prefix = os.path.commonprefix([input_vcf_1, input_vcf_2])\n",
    "        suffix = longest_common_suffix([input_vcf_1, input_vcf_2])\n",
    "        output_file = prefix + \"combined\" + suffix\n",
    "        \n",
    "    else:\n",
    "        output_file = os.path.abspath(name_out)\n",
    "    \n",
    "    list_pos = []\n",
    "    \n",
    "    with open(input_vcf_1, \"r\") as f1:\n",
    "        with open(input_vcf_2, \"r\") as f2:\n",
    "            with open(output_file, \"w+\") as fout:\n",
    "                for line in f1:\n",
    "                    if line.startswith(\"#\"): #write header only from first vcf\n",
    "                        fout.write(line)\n",
    "                    else:\n",
    "                        position =  int(line.split(\"\\t\")[1])\n",
    "                        if position not in list_pos:\n",
    "                            fout.write(line)\n",
    "                            list_pos.append(position)\n",
    "                for line in f2:\n",
    "                    if line.startswith(\"#\"):\n",
    "                        f2.readline()\n",
    "                    else:\n",
    "                        position =  int(line.split(\"\\t\")[1])\n",
    "                        if position not in list_pos:\n",
    "                            fout.write(line)\n",
    "                            list_pos.append(position)\n"
   ]
  },
  {
   "cell_type": "code",
   "execution_count": 17,
   "metadata": {},
   "outputs": [
    {
     "name": "stdout",
     "output_type": "stream",
     "text": [
      "CPU times: user 2.33 s, sys: 49.7 ms, total: 2.38 s\n",
      "Wall time: 2.37 s\n"
     ]
    }
   ],
   "source": [
    "%%time\n",
    "combine_vcf(snp, indel)"
   ]
  },
  {
   "cell_type": "code",
   "execution_count": 80,
   "metadata": {},
   "outputs": [],
   "source": [
    "test=[\"rara\", \"lol\", \"foo\", \"raro\"]"
   ]
  },
  {
   "cell_type": "code",
   "execution_count": 81,
   "metadata": {},
   "outputs": [],
   "source": [
    "#test.insert(2, \",\".join(['xxx', 'yyy']))\n",
    "test[2:2]=['xxx', 'yyy']"
   ]
  },
  {
   "cell_type": "code",
   "execution_count": 82,
   "metadata": {},
   "outputs": [
    {
     "data": {
      "text/plain": [
       "['rara', 'lol', 'xxx', 'yyy', 'foo', 'raro']"
      ]
     },
     "execution_count": 82,
     "metadata": {},
     "output_type": "execute_result"
    }
   ],
   "source": [
    "test"
   ]
  },
  {
   "cell_type": "code",
   "execution_count": 50,
   "metadata": {},
   "outputs": [],
   "source": [
    "result = [i for i in test if i.startswith('ra')]"
   ]
  },
  {
   "cell_type": "code",
   "execution_count": 51,
   "metadata": {},
   "outputs": [
    {
     "data": {
      "text/plain": [
       "['rara', 'raro']"
      ]
     },
     "execution_count": 51,
     "metadata": {},
     "output_type": "execute_result"
    }
   ],
   "source": [
    "result"
   ]
  },
  {
   "cell_type": "code",
   "execution_count": 54,
   "metadata": {},
   "outputs": [
    {
     "data": {
      "text/plain": [
       "0"
      ]
     },
     "execution_count": 54,
     "metadata": {},
     "output_type": "execute_result"
    }
   ],
   "source": [
    "test.index(result[0])"
   ]
  },
  {
   "cell_type": "code",
   "execution_count": null,
   "metadata": {},
   "outputs": [],
   "source": [
    "#https://pythonforbiologists.com/randomly-sampling-reads-from-a-fastq-file\n",
    "\"\"\"\n",
    "record_number = 0\n",
    "with open(\"test.fastq\") as input:\n",
    "    with open(\"sample.fastq\", \"w\") as output:\n",
    "        for line1 in input:\n",
    "            line2 = input.next()\n",
    "            line3 = input.next()\n",
    "            line4 = input.next()\n",
    "            if record_number % 10 == 0:\n",
    "                    output.write(line1)\n",
    "                    output.write(line2)\n",
    "                    output.write(line3)\n",
    "                    output.write(line4)\n",
    "            record_number += 1\n",
    "\"\"\""
   ]
  },
  {
   "cell_type": "code",
   "execution_count": 18,
   "metadata": {},
   "outputs": [],
   "source": [
    "def combine_vcf(vcf_file_1, vcf_file_2, name_out=False):\n",
    "    \"\"\"\n",
    "    Merge vcf files by position (POS) and ALT variants\n",
    "    \"\"\" \n",
    "    input_vcf_1 = os.path.abspath(vcf_file_1)\n",
    "    input_vcf_2 = os.path.abspath(vcf_file_2)\n",
    "    \n",
    "    input_vcf_dir_name = os.path.dirname(vcf_file_1)\n",
    "    \n",
    "    if name_out == False:\n",
    "        prefix = os.path.commonprefix([input_vcf_1, input_vcf_2])\n",
    "        suffix = longest_common_suffix([input_vcf_1, input_vcf_2])\n",
    "        output_file = prefix + \"combined\" + suffix\n",
    "        \n",
    "    else:\n",
    "        output_file = os.path.abspath(name_out)\n",
    "    \n",
    "    list_pos = []\n",
    "    filter_lines_f1 = \"\"\n",
    "    filter_lines_f2_list = []\n",
    "    #Extract filter info from header since is the only difference between headers\n",
    "    with open(input_vcf_2, \"r\") as f2:\n",
    "            for line in f2:\n",
    "                if line.startswith(\"##FILTER\"):\n",
    "                    filter_lines_f2_list.append(line)\n",
    "                    \n",
    "    #Handle combined header into variable\n",
    "    \n",
    "    with open(input_vcf_1, \"r\") as f1:\n",
    "        for line in f1:\n",
    "            if line.startswith(\"##FILTER\") and line not in filter_lines_f2_list:\n",
    "                filter_lines_f1 = filter_lines_f1 + line\n",
    "                filter_lines_f2_list.append(line)\n",
    "    print(line)\n",
    "\n",
    "\n",
    "    with open(input_vcf_1, \"r\") as f1:\n",
    "        with open(input_vcf_2, \"r\") as f2:\n",
    "            with open(output_file, \"w+\") as fout:\n",
    "                for line in f1:\n",
    "                    line2 = f1.readline()\n",
    "                    if line.startswith(\"##FILTER\") and not line2.startswith(\"##FILTER\"):\n",
    "                        fout.write(line)\n",
    "                        fout.write(filter_lines_f1)\n",
    "                        fout.write(line2)\n",
    "                        #print(line, line2)\n",
    "                    elif line.startswith(\"#\") and line2.startswith(\"#\"):\n",
    "                        fout.write(line)\n",
    "                        fout.write(line2)\n",
    "                        #print(line, line2)\n",
    "                    else:\n",
    "                        position = int(line.split(\"\\t\")[1])\n",
    "                        position2 = int(line2.split(\"\\t\")[1])\n",
    "                        if position not in list_pos:\n",
    "                            fout.write(line)\n",
    "                            fout.write(line2)\n",
    "                            list_pos.append(position)\n",
    "                            list_pos.append(position2)\n",
    "                for line in f2:\n",
    "                    if line.startswith(\"#\"):\n",
    "                        f2.readline()\n",
    "                    else:\n",
    "                        position =  int(line.split(\"\\t\")[1])\n",
    "                        if position not in list_pos:\n",
    "                            fout.write(line)\n",
    "                            list_pos.append(position)\n",
    "    print(len(list_pos))"
   ]
  }
 ],
 "metadata": {
  "kernelspec": {
   "display_name": "Python 3",
   "language": "python",
   "name": "python3"
  },
  "language_info": {
   "codemirror_mode": {
    "name": "ipython",
    "version": 3
   },
   "file_extension": ".py",
   "mimetype": "text/x-python",
   "name": "python",
   "nbconvert_exporter": "python",
   "pygments_lexer": "ipython3",
   "version": "3.6.8"
  }
 },
 "nbformat": 4,
 "nbformat_minor": 2
}
