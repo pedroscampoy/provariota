{
 "cells": [
  {
   "cell_type": "code",
   "execution_count": 1,
   "metadata": {},
   "outputs": [],
   "source": [
    "import os"
   ]
  },
  {
   "cell_type": "code",
   "execution_count": 2,
   "metadata": {},
   "outputs": [],
   "source": [
    "def check_create_dir(path):\n",
    "    #exists = os.path.isfile(path)\n",
    "    #exists = os.path.isdir(path)\n",
    "    if os.path.exists(path):\n",
    "        pass\n",
    "    else:\n",
    "        os.mkdir(path)"
   ]
  },
  {
   "cell_type": "code",
   "execution_count": 4,
   "metadata": {},
   "outputs": [],
   "source": [
    "def remove_low_covered(output_dir, sample_list):\n",
    "    output_dir = os.path.abspath(output_dir)\n",
    "    group = output_dir.split(\"/\")[-1]\n",
    "    uncovered_dir = os.path.join(output_dir, \"Uncovered\")\n",
    "    check_create_dir(uncovered_dir)\n",
    "    sample_list_file = os.path.join(output_dir, \"sample_list.txt\")\n",
    "    for root, _, files in os.walk(output_dir):\n",
    "        #Remove recall gvcf to avoid using them to recalibrate\n",
    "        if root.endswith('GVCF_recal'):\n",
    "            for name in files:\n",
    "                filename = os.path.join(root, name)\n",
    "                for sample_low in sample_list:\n",
    "                    if name.startswith(sample_low):\n",
    "                        os.remove(filename)\n",
    "        #Place low covered samples in a specific folder to analize them with different parameters\n",
    "        if root.endswith(group):\n",
    "            for name in files:\n",
    "                filename = os.path.join(root, name)\n",
    "                for sample_low in sample_list:\n",
    "                    if name.startswith(sample_low) and name.endswith(\"fastq.gz\"):\n",
    "                        dest_uncovered_path = os.path.join(uncovered_dir, name)\n",
    "                        os.rename(filename, dest_uncovered_path)\n",
    "    if os.path.isfile(sample_list_file):\n",
    "        edit_sample_list(sample_list_file, sample_list)\n"
   ]
  },
  {
   "cell_type": "code",
   "execution_count": 5,
   "metadata": {},
   "outputs": [],
   "source": [
    "#os.rename(\"path/to/current/file.foo\", \"path/to/new/destination/for/file.foo\")"
   ]
  },
  {
   "cell_type": "code",
   "execution_count": 6,
   "metadata": {},
   "outputs": [
    {
     "ename": "NameError",
     "evalue": "name 'edit_sample_list' is not defined",
     "output_type": "error",
     "traceback": [
      "\u001b[0;31m---------------------------------------------------------------------------\u001b[0m",
      "\u001b[0;31mNameError\u001b[0m                                 Traceback (most recent call last)",
      "\u001b[0;32m<ipython-input-6-07158e6a04e5>\u001b[0m in \u001b[0;36m<module>\u001b[0;34m\u001b[0m\n\u001b[0;32m----> 1\u001b[0;31m \u001b[0mremove_low_covered\u001b[0m\u001b[0;34m(\u001b[0m\u001b[0;34m\"/home/laura/ANALYSIS/SNPTB/190920_HRYC\"\u001b[0m\u001b[0;34m,\u001b[0m \u001b[0;34m[\u001b[0m\u001b[0;34m\"HRYC-11986372\"\u001b[0m\u001b[0;34m,\u001b[0m\u001b[0;34m\"10082989-0-COL11\"\u001b[0m\u001b[0;34m]\u001b[0m\u001b[0;34m)\u001b[0m\u001b[0;34m\u001b[0m\u001b[0;34m\u001b[0m\u001b[0m\n\u001b[0m",
      "\u001b[0;32m<ipython-input-4-5b41724f34e7>\u001b[0m in \u001b[0;36mremove_low_covered\u001b[0;34m(output_dir, sample_list)\u001b[0m\n\u001b[1;32m     22\u001b[0m                         \u001b[0mos\u001b[0m\u001b[0;34m.\u001b[0m\u001b[0mrename\u001b[0m\u001b[0;34m(\u001b[0m\u001b[0mfilename\u001b[0m\u001b[0;34m,\u001b[0m \u001b[0mdest_uncovered_path\u001b[0m\u001b[0;34m)\u001b[0m\u001b[0;34m\u001b[0m\u001b[0;34m\u001b[0m\u001b[0m\n\u001b[1;32m     23\u001b[0m     \u001b[0;32mif\u001b[0m \u001b[0mos\u001b[0m\u001b[0;34m.\u001b[0m\u001b[0mpath\u001b[0m\u001b[0;34m.\u001b[0m\u001b[0misfile\u001b[0m\u001b[0;34m(\u001b[0m\u001b[0msample_list_file\u001b[0m\u001b[0;34m)\u001b[0m\u001b[0;34m:\u001b[0m\u001b[0;34m\u001b[0m\u001b[0;34m\u001b[0m\u001b[0m\n\u001b[0;32m---> 24\u001b[0;31m         \u001b[0medit_sample_list\u001b[0m\u001b[0;34m(\u001b[0m\u001b[0msample_list_file\u001b[0m\u001b[0;34m,\u001b[0m \u001b[0msample_list\u001b[0m\u001b[0;34m)\u001b[0m\u001b[0;34m\u001b[0m\u001b[0;34m\u001b[0m\u001b[0m\n\u001b[0m",
      "\u001b[0;31mNameError\u001b[0m: name 'edit_sample_list' is not defined"
     ]
    }
   ],
   "source": [
    "remove_low_covered(\"/home/laura/ANALYSIS/SNPTB/190920_HRYC\", [\"HRYC-11986372\",\"10082989-0-COL11\"])"
   ]
  },
  {
   "cell_type": "code",
   "execution_count": 7,
   "metadata": {},
   "outputs": [],
   "source": [
    "sample_list = \"/home/laura/ANALYSIS/SNPTB/190920_HRYC/sample_list_test.txt\""
   ]
  },
  {
   "cell_type": "code",
   "execution_count": 8,
   "metadata": {},
   "outputs": [],
   "source": [
    "def edit_sample_list(file_list, sample_list):\n",
    "    with open(file_list, 'r') as f:\n",
    "        content = f.read()\n",
    "        content_list = content.split('\\n')\n",
    "        while '' in content_list : content_list.remove('')\n",
    "        \n",
    "    with open (file_list, 'w+') as fout:\n",
    "            for line in content_list:\n",
    "                if line not in sample_list:\n",
    "                    fout.write(line + \"\\n\")\n",
    "    "
   ]
  },
  {
   "cell_type": "code",
   "execution_count": 9,
   "metadata": {},
   "outputs": [
    {
     "ename": "FileNotFoundError",
     "evalue": "[Errno 2] No such file or directory: '/home/laura/ANALYSIS/SNPTB/190920_HRYC/sample_list_test.txt'",
     "output_type": "error",
     "traceback": [
      "\u001b[0;31m---------------------------------------------------------------------------\u001b[0m",
      "\u001b[0;31mFileNotFoundError\u001b[0m                         Traceback (most recent call last)",
      "\u001b[0;32m<ipython-input-9-4d1dab8bbaef>\u001b[0m in \u001b[0;36m<module>\u001b[0;34m\u001b[0m\n\u001b[0;32m----> 1\u001b[0;31m \u001b[0medit_sample_list\u001b[0m\u001b[0;34m(\u001b[0m\u001b[0msample_list\u001b[0m\u001b[0;34m,\u001b[0m \u001b[0;34m[\u001b[0m\u001b[0;34m\"HRYC-11986372\"\u001b[0m\u001b[0;34m,\u001b[0m\u001b[0;34m\"10082989-0-COL11\"\u001b[0m\u001b[0;34m,\u001b[0m \u001b[0;34m\"10082989-0-COL14\"\u001b[0m\u001b[0;34m]\u001b[0m\u001b[0;34m)\u001b[0m\u001b[0;34m\u001b[0m\u001b[0;34m\u001b[0m\u001b[0m\n\u001b[0m",
      "\u001b[0;32m<ipython-input-8-27a53fb71b11>\u001b[0m in \u001b[0;36medit_sample_list\u001b[0;34m(file_list, sample_list)\u001b[0m\n\u001b[1;32m      1\u001b[0m \u001b[0;32mdef\u001b[0m \u001b[0medit_sample_list\u001b[0m\u001b[0;34m(\u001b[0m\u001b[0mfile_list\u001b[0m\u001b[0;34m,\u001b[0m \u001b[0msample_list\u001b[0m\u001b[0;34m)\u001b[0m\u001b[0;34m:\u001b[0m\u001b[0;34m\u001b[0m\u001b[0;34m\u001b[0m\u001b[0m\n\u001b[0;32m----> 2\u001b[0;31m     \u001b[0;32mwith\u001b[0m \u001b[0mopen\u001b[0m\u001b[0;34m(\u001b[0m\u001b[0mfile_list\u001b[0m\u001b[0;34m,\u001b[0m \u001b[0;34m'r'\u001b[0m\u001b[0;34m)\u001b[0m \u001b[0;32mas\u001b[0m \u001b[0mf\u001b[0m\u001b[0;34m:\u001b[0m\u001b[0;34m\u001b[0m\u001b[0;34m\u001b[0m\u001b[0m\n\u001b[0m\u001b[1;32m      3\u001b[0m         \u001b[0mcontent\u001b[0m \u001b[0;34m=\u001b[0m \u001b[0mf\u001b[0m\u001b[0;34m.\u001b[0m\u001b[0mread\u001b[0m\u001b[0;34m(\u001b[0m\u001b[0;34m)\u001b[0m\u001b[0;34m\u001b[0m\u001b[0;34m\u001b[0m\u001b[0m\n\u001b[1;32m      4\u001b[0m         \u001b[0mcontent_list\u001b[0m \u001b[0;34m=\u001b[0m \u001b[0mcontent\u001b[0m\u001b[0;34m.\u001b[0m\u001b[0msplit\u001b[0m\u001b[0;34m(\u001b[0m\u001b[0;34m'\\n'\u001b[0m\u001b[0;34m)\u001b[0m\u001b[0;34m\u001b[0m\u001b[0;34m\u001b[0m\u001b[0m\n\u001b[1;32m      5\u001b[0m         \u001b[0;32mwhile\u001b[0m \u001b[0;34m''\u001b[0m \u001b[0;32min\u001b[0m \u001b[0mcontent_list\u001b[0m \u001b[0;34m:\u001b[0m \u001b[0mcontent_list\u001b[0m\u001b[0;34m.\u001b[0m\u001b[0mremove\u001b[0m\u001b[0;34m(\u001b[0m\u001b[0;34m''\u001b[0m\u001b[0;34m)\u001b[0m\u001b[0;34m\u001b[0m\u001b[0;34m\u001b[0m\u001b[0m\n",
      "\u001b[0;31mFileNotFoundError\u001b[0m: [Errno 2] No such file or directory: '/home/laura/ANALYSIS/SNPTB/190920_HRYC/sample_list_test.txt'"
     ]
    }
   ],
   "source": [
    "edit_sample_list(sample_list, [\"HRYC-11986372\",\"10082989-0-COL11\", \"10082989-0-COL14\"])"
   ]
  },
  {
   "cell_type": "code",
   "execution_count": 10,
   "metadata": {},
   "outputs": [],
   "source": [
    "folder = \"/home/laura/ANALYSIS/VARIANT_CALLING/MTB_ANC\"\n",
    "samples = [\"HIS-29405031\",\"HIS-29405031\", \"ARG-28441\"]"
   ]
  },
  {
   "cell_type": "code",
   "execution_count": 13,
   "metadata": {},
   "outputs": [],
   "source": [
    "def check_reanalysis(output_dir):\n",
    "    output_dir = os.path.abspath(output_dir)\n",
    "    #group = output_dir.split(\"/\")[-1]\n",
    "    \n",
    "    bam_dir = os.path.join(output_dir, \"Bam\")\n",
    "    vcf_dir = os.path.join(output_dir, \"VCF\")\n",
    "    gvcf_dir = os.path.join(output_dir, \"GVCF\")\n",
    "    gvcfr_dir = os.path.join(output_dir, \"GVCF_recal\")\n",
    "    vcfr_dir = os.path.join(output_dir, \"VCF_recal\")\n",
    "    cov_dir = os.path.join(output_dir, \"Coverage\")\n",
    "    \n",
    "    previous_files = [bam_dir, vcf_dir, gvcf_dir, gvcfr_dir]\n",
    "    \n",
    "    #check how many folders exist\n",
    "    file_exist = sum([os.path.exists(x) for x in previous_files]) #True = 1, False = 0\n",
    "    \n",
    "    #Handle reanalysis: First time; reanalysis o reanalysis with aditional samples\n",
    "    if file_exist > 0: #Already analysed\n",
    "        \n",
    "        samples_analyzed = os.listdir(bam_dir)\n",
    "        samples_analyzed = len([ x for x in samples_analyzed if \".bai\" not in x and \"bqsr\" in x])\n",
    "\n",
    "        samples_fastq = os.listdir(output_dir)\n",
    "        samples_fastq = len([ x for x in samples_fastq if x.endswith('fastq.gz')]) / 2\n",
    "        \n",
    "        if samples_analyzed >= samples_fastq:\n",
    "            print(MAGENTA + \"\\nPREVIOUS ANALYSIS DETECTED, NO NEW SEQUENCES ADDED\\n\" + END_FORMATTING)\n",
    "        \n",
    "        else:\n",
    "            print(MAGENTA + \"\\nPREVIOUS ANALYSIS DETECTED, NEW SEQUENCES ADDED\\n\" + END_FORMATTING)\n",
    "            for root, _, files in os.walk(output_dir):\n",
    "                    if root ==  gvcf_dir or root == gvcfr_dir or root == vcfr_dir:\n",
    "                        for name in files:\n",
    "                            filename = os.path.join(root, name)\n",
    "                            if ((\"GVCF_recal\" in filename) or (\"/VCF_recal\" in filename)) and \"cohort\" in filename and samples_analyzed < 100:\n",
    "                                os.remove(filename)\n",
    "                            elif \"cohort\" in filename and \"/GVCF/\" in filename:\n",
    "                                os.remove(filename)\n",
    "                    elif root == vcf_dir:\n",
    "                        for name in files:\n",
    "                            filename = os.path.join(root, name)\n",
    "                            if \"cohort\" in filename or filename.endswith(\".bed\"):\n",
    "                                os.remove(filename)\n",
    "                    elif root == cov_dir:\n",
    "                        for name in files:\n",
    "                            filename = os.path.join(root, name)\n",
    "                            if \"coverage.tab\" in filename or\\\n",
    "                            \"poorly_covered.bed\" in filename:\n",
    "                                os.remove(filename)\n",
    "            #print(file_exist, samples_analyzed, samples_fastq)"
   ]
  },
  {
   "cell_type": "code",
   "execution_count": 12,
   "metadata": {},
   "outputs": [
    {
     "ename": "NameError",
     "evalue": "name 'MAGENTA' is not defined",
     "output_type": "error",
     "traceback": [
      "\u001b[0;31m---------------------------------------------------------------------------\u001b[0m",
      "\u001b[0;31mNameError\u001b[0m                                 Traceback (most recent call last)",
      "\u001b[0;32m<ipython-input-12-9592a57797b2>\u001b[0m in \u001b[0;36m<module>\u001b[0;34m\u001b[0m\n\u001b[0;32m----> 1\u001b[0;31m \u001b[0mcheck_reanalysis\u001b[0m\u001b[0;34m(\u001b[0m\u001b[0mfolder\u001b[0m\u001b[0;34m)\u001b[0m\u001b[0;34m\u001b[0m\u001b[0;34m\u001b[0m\u001b[0m\n\u001b[0m",
      "\u001b[0;32m<ipython-input-11-fb44dfe1f45d>\u001b[0m in \u001b[0;36mcheck_reanalysis\u001b[0;34m(output_dir)\u001b[0m\n\u001b[1;32m     28\u001b[0m \u001b[0;34m\u001b[0m\u001b[0m\n\u001b[1;32m     29\u001b[0m         \u001b[0;32melse\u001b[0m\u001b[0;34m:\u001b[0m\u001b[0;34m\u001b[0m\u001b[0;34m\u001b[0m\u001b[0m\n\u001b[0;32m---> 30\u001b[0;31m             \u001b[0mprint\u001b[0m\u001b[0;34m(\u001b[0m\u001b[0mMAGENTA\u001b[0m \u001b[0;34m+\u001b[0m \u001b[0;34m\"\\nPREVIOUS ANALYSIS DETECTED, NEW SEQUENCES ADDED\\n\"\u001b[0m \u001b[0;34m+\u001b[0m \u001b[0mEND_FORMATTING\u001b[0m\u001b[0;34m)\u001b[0m\u001b[0;34m\u001b[0m\u001b[0;34m\u001b[0m\u001b[0m\n\u001b[0m\u001b[1;32m     31\u001b[0m             \u001b[0;32mfor\u001b[0m \u001b[0mroot\u001b[0m\u001b[0;34m,\u001b[0m \u001b[0m_\u001b[0m\u001b[0;34m,\u001b[0m \u001b[0mfiles\u001b[0m \u001b[0;32min\u001b[0m \u001b[0mos\u001b[0m\u001b[0;34m.\u001b[0m\u001b[0mwalk\u001b[0m\u001b[0;34m(\u001b[0m\u001b[0moutput_dir\u001b[0m\u001b[0;34m)\u001b[0m\u001b[0;34m:\u001b[0m\u001b[0;34m\u001b[0m\u001b[0;34m\u001b[0m\u001b[0m\n\u001b[1;32m     32\u001b[0m                     \u001b[0;32mif\u001b[0m \u001b[0mroot\u001b[0m \u001b[0;34m==\u001b[0m  \u001b[0mgvcf_dir\u001b[0m \u001b[0;32mor\u001b[0m \u001b[0mroot\u001b[0m \u001b[0;34m==\u001b[0m \u001b[0mgvcfr_dir\u001b[0m \u001b[0;32mor\u001b[0m \u001b[0mroot\u001b[0m \u001b[0;34m==\u001b[0m \u001b[0mvcfr_dir\u001b[0m\u001b[0;34m:\u001b[0m\u001b[0;34m\u001b[0m\u001b[0;34m\u001b[0m\u001b[0m\n",
      "\u001b[0;31mNameError\u001b[0m: name 'MAGENTA' is not defined"
     ]
    }
   ],
   "source": [
    "check_reanalysis(folder)"
   ]
  },
  {
   "cell_type": "code",
   "execution_count": null,
   "metadata": {},
   "outputs": [],
   "source": [
    "non_genotyped_count = sum(non_genotyped) "
   ]
  },
  {
   "cell_type": "code",
   "execution_count": 21,
   "metadata": {},
   "outputs": [],
   "source": [
    "def remove_low_covered_mixed(output_dir, sample_list, type_remove):\n",
    "    output_dir = os.path.abspath(output_dir)\n",
    "    group = output_dir.split(\"/\")[-1]\n",
    "    uncovered_dir = os.path.join(output_dir, type_remove) #Uncovered or Mixed\n",
    "    check_create_dir(uncovered_dir)\n",
    "\n",
    "    sample_list_file = os.path.join(output_dir, \"sample_list.txt\")\n",
    "    \n",
    "    for root, _, files in os.walk(output_dir):\n",
    "        #Any previous file created except for Table for mixed samples\n",
    "        # and Species for both uncovered and mixed\n",
    "        if root.endswith('GVCF_recal') or root.endswith('Coverage') \\\n",
    "        or root.endswith('VCF') or root.endswith('VCF_recal') \\\n",
    "        or root.endswith('Bam') or root.endswith('GVCF') \\\n",
    "        or root.endswith('Table'):\n",
    "            for name in files:\n",
    "                filename = os.path.join(root, name)\n",
    "                for sample_low in sample_list:\n",
    "                    if name.startswith(sample_low):\n",
    "                        print(filename)\n",
    " \n",
    "        #Place low covered samples in a specific folder to analize them with different parameters\n",
    "        if root.endswith(group):\n",
    "            for name in files:\n",
    "                filename = os.path.join(root, name)\n",
    "                for sample_low in sample_list:\n",
    "                    sample_lowbar = sample_low + \"_\"\n",
    "                    if name.startswith(sample_lowbar) and name.endswith(\"fastq.gz\"):\n",
    "                        print(sample_lowbar)\n",
    "                        dest_uncovered_path = os.path.join(uncovered_dir, name)\n",
    "                        if os.path.isfile(sample_list_file):\n",
    "                            print(filename, dest_uncovered_path)\n",
    "    if os.path.isfile(sample_list_file):\n",
    "        edit_sample_list(sample_list_file, sample_list)\n"
   ]
  },
  {
   "cell_type": "code",
   "execution_count": 22,
   "metadata": {},
   "outputs": [],
   "source": [
    "pipeline_folder = \"/home/laura/ANALYSIS/VARIANT_CALLING/MTB_ANC\"\n",
    "list_s = ['937_CGTACTAG-AGAGTAGA_L001','511-51879','9','145_P_002885','MGIT268','MGIT42','AB-40701','131_P_137862']"
   ]
  },
  {
   "cell_type": "code",
   "execution_count": 23,
   "metadata": {},
   "outputs": [
    {
     "name": "stdout",
     "output_type": "stream",
     "text": [
      "MGIT42_\n",
      "/home/laura/ANALYSIS/VARIANT_CALLING/MTB_ANC/MGIT42_S1_L001_R1_001.fastq.gz /home/laura/ANALYSIS/VARIANT_CALLING/MTB_ANC/Uncovered/MGIT42_S1_L001_R1_001.fastq.gz\n",
      "AB-40701_\n",
      "/home/laura/ANALYSIS/VARIANT_CALLING/MTB_ANC/AB-40701_S16_L001_R2_001.fastq.gz /home/laura/ANALYSIS/VARIANT_CALLING/MTB_ANC/Uncovered/AB-40701_S16_L001_R2_001.fastq.gz\n",
      "937_CGTACTAG-AGAGTAGA_L001_\n",
      "/home/laura/ANALYSIS/VARIANT_CALLING/MTB_ANC/937_CGTACTAG-AGAGTAGA_L001_R2.fastq.gz /home/laura/ANALYSIS/VARIANT_CALLING/MTB_ANC/Uncovered/937_CGTACTAG-AGAGTAGA_L001_R2.fastq.gz\n",
      "145_P_002885_\n",
      "/home/laura/ANALYSIS/VARIANT_CALLING/MTB_ANC/145_P_002885_S49_L002_R1_001.fastq.gz /home/laura/ANALYSIS/VARIANT_CALLING/MTB_ANC/Uncovered/145_P_002885_S49_L002_R1_001.fastq.gz\n",
      "AB-40701_\n",
      "/home/laura/ANALYSIS/VARIANT_CALLING/MTB_ANC/AB-40701_S16_L001_R1_001.fastq.gz /home/laura/ANALYSIS/VARIANT_CALLING/MTB_ANC/Uncovered/AB-40701_S16_L001_R1_001.fastq.gz\n",
      "9_\n",
      "/home/laura/ANALYSIS/VARIANT_CALLING/MTB_ANC/9_S4_L001_R2_001.fastq.gz /home/laura/ANALYSIS/VARIANT_CALLING/MTB_ANC/Uncovered/9_S4_L001_R2_001.fastq.gz\n",
      "9_\n",
      "/home/laura/ANALYSIS/VARIANT_CALLING/MTB_ANC/9_S6_L001_R2_001.fastq.gz /home/laura/ANALYSIS/VARIANT_CALLING/MTB_ANC/Uncovered/9_S6_L001_R2_001.fastq.gz\n",
      "511-51879_\n",
      "/home/laura/ANALYSIS/VARIANT_CALLING/MTB_ANC/511-51879_S38_L001to2_R1_001.fastq.gz /home/laura/ANALYSIS/VARIANT_CALLING/MTB_ANC/Uncovered/511-51879_S38_L001to2_R1_001.fastq.gz\n",
      "9_\n",
      "/home/laura/ANALYSIS/VARIANT_CALLING/MTB_ANC/9_S4_L001_R1_001.fastq.gz /home/laura/ANALYSIS/VARIANT_CALLING/MTB_ANC/Uncovered/9_S4_L001_R1_001.fastq.gz\n",
      "MGIT268_\n",
      "/home/laura/ANALYSIS/VARIANT_CALLING/MTB_ANC/MGIT268_S8_L001_R1_001.fastq.gz /home/laura/ANALYSIS/VARIANT_CALLING/MTB_ANC/Uncovered/MGIT268_S8_L001_R1_001.fastq.gz\n",
      "937_CGTACTAG-AGAGTAGA_L001_\n",
      "/home/laura/ANALYSIS/VARIANT_CALLING/MTB_ANC/937_CGTACTAG-AGAGTAGA_L001_R1.fastq.gz /home/laura/ANALYSIS/VARIANT_CALLING/MTB_ANC/Uncovered/937_CGTACTAG-AGAGTAGA_L001_R1.fastq.gz\n",
      "MGIT268_\n",
      "/home/laura/ANALYSIS/VARIANT_CALLING/MTB_ANC/MGIT268_S8_L001_R2_001.fastq.gz /home/laura/ANALYSIS/VARIANT_CALLING/MTB_ANC/Uncovered/MGIT268_S8_L001_R2_001.fastq.gz\n",
      "145_P_002885_\n",
      "/home/laura/ANALYSIS/VARIANT_CALLING/MTB_ANC/145_P_002885_S49_L002_R1.fastq.gz /home/laura/ANALYSIS/VARIANT_CALLING/MTB_ANC/Uncovered/145_P_002885_S49_L002_R1.fastq.gz\n",
      "145_P_002885_\n",
      "/home/laura/ANALYSIS/VARIANT_CALLING/MTB_ANC/145_P_002885_S49_L002_R2_001.fastq.gz /home/laura/ANALYSIS/VARIANT_CALLING/MTB_ANC/Uncovered/145_P_002885_S49_L002_R2_001.fastq.gz\n",
      "131_P_137862_\n",
      "/home/laura/ANALYSIS/VARIANT_CALLING/MTB_ANC/131_P_137862_S39_L002_R1_001.fastq.gz /home/laura/ANALYSIS/VARIANT_CALLING/MTB_ANC/Uncovered/131_P_137862_S39_L002_R1_001.fastq.gz\n",
      "9_\n",
      "/home/laura/ANALYSIS/VARIANT_CALLING/MTB_ANC/9_S6_L001_R1_001.fastq.gz /home/laura/ANALYSIS/VARIANT_CALLING/MTB_ANC/Uncovered/9_S6_L001_R1_001.fastq.gz\n",
      "131_P_137862_\n",
      "/home/laura/ANALYSIS/VARIANT_CALLING/MTB_ANC/131_P_137862_S39_L002_R2_001.fastq.gz /home/laura/ANALYSIS/VARIANT_CALLING/MTB_ANC/Uncovered/131_P_137862_S39_L002_R2_001.fastq.gz\n",
      "MGIT42_\n",
      "/home/laura/ANALYSIS/VARIANT_CALLING/MTB_ANC/MGIT42_S1_L001_R2_001.fastq.gz /home/laura/ANALYSIS/VARIANT_CALLING/MTB_ANC/Uncovered/MGIT42_S1_L001_R2_001.fastq.gz\n",
      "145_P_002885_\n",
      "/home/laura/ANALYSIS/VARIANT_CALLING/MTB_ANC/145_P_002885_S49_L002_R2.fastq.gz /home/laura/ANALYSIS/VARIANT_CALLING/MTB_ANC/Uncovered/145_P_002885_S49_L002_R2.fastq.gz\n",
      "511-51879_\n",
      "/home/laura/ANALYSIS/VARIANT_CALLING/MTB_ANC/511-51879_S38_L001to2_R2_001.fastq.gz /home/laura/ANALYSIS/VARIANT_CALLING/MTB_ANC/Uncovered/511-51879_S38_L001to2_R2_001.fastq.gz\n",
      "/home/laura/ANALYSIS/VARIANT_CALLING/MTB_ANC/Bam/145_P_002885.rg.markdup.sorted.bam.bai\n",
      "/home/laura/ANALYSIS/VARIANT_CALLING/MTB_ANC/Bam/MGIT268.rg.markdup.sorted.bam.bai\n",
      "/home/laura/ANALYSIS/VARIANT_CALLING/MTB_ANC/Bam/511-51879.rg.markdup.sorted.bam.bai\n",
      "/home/laura/ANALYSIS/VARIANT_CALLING/MTB_ANC/Bam/131_P_137862.rg.markdup.sorted.bam\n",
      "/home/laura/ANALYSIS/VARIANT_CALLING/MTB_ANC/Bam/93510694.rg.markdup.sorted.bam\n",
      "/home/laura/ANALYSIS/VARIANT_CALLING/MTB_ANC/Bam/9.rg.markdup.sorted.bam\n",
      "/home/laura/ANALYSIS/VARIANT_CALLING/MTB_ANC/Bam/945.rg.markdup.sorted.bam\n",
      "/home/laura/ANALYSIS/VARIANT_CALLING/MTB_ANC/Bam/92103651.rg.markdup.sorted.bam.bai\n",
      "/home/laura/ANALYSIS/VARIANT_CALLING/MTB_ANC/Bam/945.rg.markdup.sorted.bam.bai\n",
      "/home/laura/ANALYSIS/VARIANT_CALLING/MTB_ANC/Bam/9-1.rg.markdup.sorted.bam.bai\n",
      "/home/laura/ANALYSIS/VARIANT_CALLING/MTB_ANC/Bam/AB-40701.rg.markdup.sorted.bam.bai\n",
      "/home/laura/ANALYSIS/VARIANT_CALLING/MTB_ANC/Bam/MGIT268.rg.markdup.sorted.bam\n",
      "/home/laura/ANALYSIS/VARIANT_CALLING/MTB_ANC/Bam/937_CGTACTAG-AGAGTAGA_L001.rg.markdup.sorted.bam.bai\n",
      "/home/laura/ANALYSIS/VARIANT_CALLING/MTB_ANC/Bam/937_CGTACTAG-AGAGTAGA_L001.rg.markdup.sorted.bam.bai\n",
      "/home/laura/ANALYSIS/VARIANT_CALLING/MTB_ANC/Bam/93510694.rg.markdup.sorted.bam.bai\n",
      "/home/laura/ANALYSIS/VARIANT_CALLING/MTB_ANC/Bam/511-51879.rg.markdup.sorted.bam\n",
      "/home/laura/ANALYSIS/VARIANT_CALLING/MTB_ANC/Bam/9.rg.markdup.sorted.bam.bai\n",
      "/home/laura/ANALYSIS/VARIANT_CALLING/MTB_ANC/Bam/MGIT42.rg.markdup.sorted.bam.bai\n",
      "/home/laura/ANALYSIS/VARIANT_CALLING/MTB_ANC/Bam/937_CGTACTAG-AGAGTAGA_L001.rg.markdup.sorted.bam\n",
      "/home/laura/ANALYSIS/VARIANT_CALLING/MTB_ANC/Bam/937_CGTACTAG-AGAGTAGA_L001.rg.markdup.sorted.bam\n",
      "/home/laura/ANALYSIS/VARIANT_CALLING/MTB_ANC/Bam/9-1.rg.markdup.sorted.bam\n",
      "/home/laura/ANALYSIS/VARIANT_CALLING/MTB_ANC/Bam/145_P_002885.rg.markdup.sorted.bam\n",
      "/home/laura/ANALYSIS/VARIANT_CALLING/MTB_ANC/Bam/AB-40701.rg.markdup.sorted.bam\n",
      "/home/laura/ANALYSIS/VARIANT_CALLING/MTB_ANC/Bam/92103651.rg.markdup.sorted.bam\n",
      "/home/laura/ANALYSIS/VARIANT_CALLING/MTB_ANC/Bam/131_P_137862.rg.markdup.sorted.bam.bai\n",
      "/home/laura/ANALYSIS/VARIANT_CALLING/MTB_ANC/Bam/MGIT42.rg.markdup.sorted.bam\n",
      "/home/laura/ANALYSIS/VARIANT_CALLING/MTB_ANC/GVCF_recal/9.g.vcf\n",
      "/home/laura/ANALYSIS/VARIANT_CALLING/MTB_ANC/GVCF_recal/145_P_002885.g.vcf\n",
      "/home/laura/ANALYSIS/VARIANT_CALLING/MTB_ANC/GVCF_recal/945.g.vcf\n",
      "/home/laura/ANALYSIS/VARIANT_CALLING/MTB_ANC/GVCF_recal/937_CGTACTAG-AGAGTAGA_L001.g.vcf.idx\n",
      "/home/laura/ANALYSIS/VARIANT_CALLING/MTB_ANC/GVCF_recal/937_CGTACTAG-AGAGTAGA_L001.g.vcf.idx\n",
      "/home/laura/ANALYSIS/VARIANT_CALLING/MTB_ANC/GVCF_recal/AB-40701.g.vcf.idx\n",
      "/home/laura/ANALYSIS/VARIANT_CALLING/MTB_ANC/GVCF_recal/131_P_137862.g.vcf\n",
      "/home/laura/ANALYSIS/VARIANT_CALLING/MTB_ANC/GVCF_recal/93510694.g.vcf.idx\n",
      "/home/laura/ANALYSIS/VARIANT_CALLING/MTB_ANC/GVCF_recal/945.g.vcf.idx\n",
      "/home/laura/ANALYSIS/VARIANT_CALLING/MTB_ANC/GVCF_recal/92103651.g.vcf\n",
      "/home/laura/ANALYSIS/VARIANT_CALLING/MTB_ANC/GVCF_recal/MGIT42.g.vcf.idx\n",
      "/home/laura/ANALYSIS/VARIANT_CALLING/MTB_ANC/GVCF_recal/92103651.g.vcf.idx\n",
      "/home/laura/ANALYSIS/VARIANT_CALLING/MTB_ANC/GVCF_recal/511-51879.g.vcf.idx\n",
      "/home/laura/ANALYSIS/VARIANT_CALLING/MTB_ANC/GVCF_recal/MGIT42.g.vcf\n",
      "/home/laura/ANALYSIS/VARIANT_CALLING/MTB_ANC/GVCF_recal/511-51879.g.vcf\n",
      "/home/laura/ANALYSIS/VARIANT_CALLING/MTB_ANC/GVCF_recal/9.g.vcf.idx\n",
      "/home/laura/ANALYSIS/VARIANT_CALLING/MTB_ANC/GVCF_recal/MGIT268.g.vcf\n",
      "/home/laura/ANALYSIS/VARIANT_CALLING/MTB_ANC/GVCF_recal/9-1.g.vcf.idx\n",
      "/home/laura/ANALYSIS/VARIANT_CALLING/MTB_ANC/GVCF_recal/93510694.g.vcf\n",
      "/home/laura/ANALYSIS/VARIANT_CALLING/MTB_ANC/GVCF_recal/9-1.g.vcf\n",
      "/home/laura/ANALYSIS/VARIANT_CALLING/MTB_ANC/GVCF_recal/145_P_002885.g.vcf.idx\n",
      "/home/laura/ANALYSIS/VARIANT_CALLING/MTB_ANC/GVCF_recal/AB-40701.g.vcf\n",
      "/home/laura/ANALYSIS/VARIANT_CALLING/MTB_ANC/GVCF_recal/MGIT268.g.vcf.idx\n",
      "/home/laura/ANALYSIS/VARIANT_CALLING/MTB_ANC/GVCF_recal/937_CGTACTAG-AGAGTAGA_L001.g.vcf\n",
      "/home/laura/ANALYSIS/VARIANT_CALLING/MTB_ANC/GVCF_recal/937_CGTACTAG-AGAGTAGA_L001.g.vcf\n",
      "/home/laura/ANALYSIS/VARIANT_CALLING/MTB_ANC/GVCF_recal/131_P_137862.g.vcf.idx\n",
      "/home/laura/ANALYSIS/VARIANT_CALLING/MTB_ANC/Coverage/937_CGTACTAG-AGAGTAGA_L001.cov\n",
      "/home/laura/ANALYSIS/VARIANT_CALLING/MTB_ANC/Coverage/937_CGTACTAG-AGAGTAGA_L001.cov\n",
      "/home/laura/ANALYSIS/VARIANT_CALLING/MTB_ANC/Coverage/511-51879.cov\n",
      "/home/laura/ANALYSIS/VARIANT_CALLING/MTB_ANC/Coverage/9.cov\n",
      "/home/laura/ANALYSIS/VARIANT_CALLING/MTB_ANC/Coverage/93510694.cov\n",
      "/home/laura/ANALYSIS/VARIANT_CALLING/MTB_ANC/Coverage/145_P_002885.cov\n",
      "/home/laura/ANALYSIS/VARIANT_CALLING/MTB_ANC/Coverage/MGIT268.cov\n",
      "/home/laura/ANALYSIS/VARIANT_CALLING/MTB_ANC/Coverage/92103651.cov\n",
      "/home/laura/ANALYSIS/VARIANT_CALLING/MTB_ANC/Coverage/945.cov\n",
      "/home/laura/ANALYSIS/VARIANT_CALLING/MTB_ANC/Coverage/MGIT42.cov\n",
      "/home/laura/ANALYSIS/VARIANT_CALLING/MTB_ANC/Coverage/AB-40701.cov\n",
      "/home/laura/ANALYSIS/VARIANT_CALLING/MTB_ANC/Coverage/131_P_137862.cov\n",
      "/home/laura/ANALYSIS/VARIANT_CALLING/MTB_ANC/Coverage/9-1.cov\n"
     ]
    }
   ],
   "source": [
    "remove_low_covered_mixed(pipeline_folder, list_s, \"Uncovered\")"
   ]
  },
  {
   "cell_type": "code",
   "execution_count": null,
   "metadata": {},
   "outputs": [],
   "source": []
  }
 ],
 "metadata": {
  "kernelspec": {
   "display_name": "Python 3",
   "language": "python",
   "name": "python3"
  },
  "language_info": {
   "codemirror_mode": {
    "name": "ipython",
    "version": 3
   },
   "file_extension": ".py",
   "mimetype": "text/x-python",
   "name": "python",
   "nbconvert_exporter": "python",
   "pygments_lexer": "ipython3",
   "version": "3.6.8"
  }
 },
 "nbformat": 4,
 "nbformat_minor": 2
}
