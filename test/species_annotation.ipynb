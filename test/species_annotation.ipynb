{
 "cells": [
  {
   "cell_type": "code",
   "execution_count": 4,
   "metadata": {},
   "outputs": [],
   "source": [
    "import os\n",
    "import pandas as pd"
   ]
  },
  {
   "cell_type": "code",
   "execution_count": 5,
   "metadata": {},
   "outputs": [],
   "source": [
    "file = \"AL68663.screen.tab\""
   ]
  },
  {
   "cell_type": "code",
   "execution_count": 16,
   "metadata": {},
   "outputs": [],
   "source": [
    "def extract_species(row):\n",
    "    split_row = row['query-comment'].split(\" \")\n",
    "    if split_row[0].startswith(\"[\") and split_row[1].endswith(\"]\"):\n",
    "        species = (\" \").join([split_row[3], split_row[4]]) \n",
    "    else:\n",
    "        species = (\" \").join([split_row[1], split_row[2]])\n",
    "    return species"
   ]
  },
  {
   "cell_type": "code",
   "execution_count": 20,
   "metadata": {},
   "outputs": [],
   "source": [
    "def extract_accession(row):\n",
    "    split_row = row['query-comment'].split(\" \")\n",
    "    if split_row[0].startswith(\"[\") and split_row[1].endswith(\"]\"):\n",
    "        accession = split_row[2]\n",
    "    else:\n",
    "        accession = split_row[0]\n",
    "    return accession"
   ]
  },
  {
   "cell_type": "code",
   "execution_count": 61,
   "metadata": {},
   "outputs": [],
   "source": [
    "def import_mash_screen_to_pandas(screen_file):\n",
    "    dataframe = pd.read_csv(file, sep=\"\\t\", names=['identity', 'shared-hashes',\n",
    "                                                   'median-multiplicity', 'p-value',\n",
    "                                                   'query-ID', 'query-comment'])\n",
    "    \n",
    "    dataframe['Species'] = dataframe.apply(extract_species, axis=1)    \n",
    "    dataframe['Accession'] = dataframe.apply(extract_accession, axis=1)\n",
    "    dataframe['GCF'] = dataframe['query-ID'].str.split(\"_\").str[0:2].str.join('_')\n",
    "    dataframe['ASM'] = dataframe['query-ID'].str.split(\"_\").str[2]\n",
    "    dataframe['Hash_1'] = dataframe['shared-hashes'].str.split(\"/\").str[0]\n",
    "    dataframe['Hash_2'] = dataframe['shared-hashes'].str.split(\"/\").str[1]\n",
    "    \n",
    "    to_int = ['Hash_1', 'Hash_2']    \n",
    "                \n",
    "    for column in dataframe.columns:\n",
    "        if column in to_int:\n",
    "            dataframe[column] = dataframe[column].astype(int)\n",
    "            \n",
    "    dataframe['Hash_fr'] = dataframe['Hash_1']/ dataframe['Hash_2']\n",
    "    \n",
    "    return dataframe"
   ]
  },
  {
   "cell_type": "code",
   "execution_count": 118,
   "metadata": {},
   "outputs": [],
   "source": [
    "df = import_mash_screen_to_pandas(file)"
   ]
  },
  {
   "cell_type": "code",
   "execution_count": 148,
   "metadata": {},
   "outputs": [],
   "source": [
    "def extract_species_from_screen(screen_dataframe, identity_threshold=0.9):\n",
    "    df_index = screen_dataframe[screen_dataframe.identity > identity_threshold]\n",
    "    #max_hash = df_index['Hash_fr'].max()\n",
    "    hash_values = df_th.Hash_fr.values.tolist()\n",
    "    hash_values.sort(reverse=True)\n",
    "\n",
    "    main_species = df_index['Species'][df_index['Hash_fr'] == hash_values[0]].values[0]\n",
    "    \n",
    "    species_report = \"Main species: \" + \"<i>\" + main_species + \"</i>\" + \"<br />\"\n",
    "    \n",
    "    print(len(hash_values))\n",
    "    #<p style=\"padding-right: 5px;\">My Text Here</p>.\n",
    "    if len(hash_values) > 1:\n",
    "        for index, hash_value in enumerate(hash_values):\n",
    "            species_hashed = df_index['Species'][df_index['Hash_fr'] == hash_value].values[0]\n",
    "            if index != 0:\n",
    "                if hash_value > 0.6:\n",
    "                    species_line = \"Another high represented species found: \" + \"<i>\" + species_hashed + \"</i>\" + \"<br />\"\n",
    "                elif hash_value < 0.3:\n",
    "                    species_line = \"Another less represented species found: \" + \"<i>\" + species_hashed + \"</i>\" + \"<br />\"\n",
    "                else:\n",
    "                    species_line = \"Another mild represented species found: \" + \"<i>\" + species_hashed + \"</i>\" + \"<br />\"\n",
    "                    \n",
    "                species_report = species_report + species_line\n",
    "            print(index, hash_value)        \n",
    "        \n",
    "    \n",
    "    return main_species, species_report\n",
    "    "
   ]
  },
  {
   "cell_type": "code",
   "execution_count": 149,
   "metadata": {},
   "outputs": [
    {
     "name": "stdout",
     "output_type": "stream",
     "text": [
      "2\n",
      "0 0.998\n",
      "1 0.137\n"
     ]
    },
    {
     "data": {
      "text/plain": [
       "('Mycobacterium tuberculosis',\n",
       " 'Main species: <i>Mycobacterium tuberculosis</i><br />Another less represented species found: <i>Pseudomonas aeruginosa</i><br />')"
      ]
     },
     "execution_count": 149,
     "metadata": {},
     "output_type": "execute_result"
    }
   ],
   "source": [
    "extract_species_from_screen(df)"
   ]
  },
  {
   "cell_type": "code",
   "execution_count": 129,
   "metadata": {},
   "outputs": [
    {
     "data": {
      "text/html": [
       "<div>\n",
       "<style scoped>\n",
       "    .dataframe tbody tr th:only-of-type {\n",
       "        vertical-align: middle;\n",
       "    }\n",
       "\n",
       "    .dataframe tbody tr th {\n",
       "        vertical-align: top;\n",
       "    }\n",
       "\n",
       "    .dataframe thead th {\n",
       "        text-align: right;\n",
       "    }\n",
       "</style>\n",
       "<table border=\"1\" class=\"dataframe\">\n",
       "  <thead>\n",
       "    <tr style=\"text-align: right;\">\n",
       "      <th></th>\n",
       "      <th>identity</th>\n",
       "      <th>shared-hashes</th>\n",
       "      <th>median-multiplicity</th>\n",
       "      <th>p-value</th>\n",
       "      <th>query-ID</th>\n",
       "      <th>query-comment</th>\n",
       "      <th>Species</th>\n",
       "      <th>Accession</th>\n",
       "      <th>GCF</th>\n",
       "      <th>ASM</th>\n",
       "      <th>Hash_1</th>\n",
       "      <th>Hash_2</th>\n",
       "      <th>Hash_fr</th>\n",
       "    </tr>\n",
       "  </thead>\n",
       "  <tbody>\n",
       "    <tr>\n",
       "      <th>0</th>\n",
       "      <td>0.719686</td>\n",
       "      <td>1/1000</td>\n",
       "      <td>1</td>\n",
       "      <td>0.003494</td>\n",
       "      <td>GCF_000008225.1_ASM822v1_genomic.fna.gz</td>\n",
       "      <td>NC_007332.1 Mycoplasma hyopneumoniae 7448, com...</td>\n",
       "      <td>Mycoplasma hyopneumoniae</td>\n",
       "      <td>NC_007332.1</td>\n",
       "      <td>GCF_000008225.1</td>\n",
       "      <td>ASM822v1</td>\n",
       "      <td>1</td>\n",
       "      <td>1000</td>\n",
       "      <td>0.001</td>\n",
       "    </tr>\n",
       "    <tr>\n",
       "      <th>1</th>\n",
       "      <td>0.719686</td>\n",
       "      <td>1/1000</td>\n",
       "      <td>1</td>\n",
       "      <td>0.003494</td>\n",
       "      <td>GCF_000010425.1_ASM1042v1_genomic.fna.gz</td>\n",
       "      <td>NC_008618.1 Bifidobacterium adolescentis ATCC ...</td>\n",
       "      <td>Bifidobacterium adolescentis</td>\n",
       "      <td>NC_008618.1</td>\n",
       "      <td>GCF_000010425.1</td>\n",
       "      <td>ASM1042v1</td>\n",
       "      <td>1</td>\n",
       "      <td>1000</td>\n",
       "      <td>0.001</td>\n",
       "    </tr>\n",
       "  </tbody>\n",
       "</table>\n",
       "</div>"
      ],
      "text/plain": [
       "   identity shared-hashes  median-multiplicity   p-value  \\\n",
       "0  0.719686        1/1000                    1  0.003494   \n",
       "1  0.719686        1/1000                    1  0.003494   \n",
       "\n",
       "                                   query-ID  \\\n",
       "0   GCF_000008225.1_ASM822v1_genomic.fna.gz   \n",
       "1  GCF_000010425.1_ASM1042v1_genomic.fna.gz   \n",
       "\n",
       "                                       query-comment  \\\n",
       "0  NC_007332.1 Mycoplasma hyopneumoniae 7448, com...   \n",
       "1  NC_008618.1 Bifidobacterium adolescentis ATCC ...   \n",
       "\n",
       "                        Species    Accession              GCF        ASM  \\\n",
       "0      Mycoplasma hyopneumoniae  NC_007332.1  GCF_000008225.1   ASM822v1   \n",
       "1  Bifidobacterium adolescentis  NC_008618.1  GCF_000010425.1  ASM1042v1   \n",
       "\n",
       "   Hash_1  Hash_2  Hash_fr  \n",
       "0       1    1000    0.001  \n",
       "1       1    1000    0.001  "
      ]
     },
     "execution_count": 129,
     "metadata": {},
     "output_type": "execute_result"
    }
   ],
   "source": [
    "df.head(2)"
   ]
  },
  {
   "cell_type": "code",
   "execution_count": 66,
   "metadata": {},
   "outputs": [],
   "source": [
    "df_th = df[df.identity > .9]"
   ]
  },
  {
   "cell_type": "code",
   "execution_count": 67,
   "metadata": {},
   "outputs": [
    {
     "data": {
      "text/html": [
       "<div>\n",
       "<style scoped>\n",
       "    .dataframe tbody tr th:only-of-type {\n",
       "        vertical-align: middle;\n",
       "    }\n",
       "\n",
       "    .dataframe tbody tr th {\n",
       "        vertical-align: top;\n",
       "    }\n",
       "\n",
       "    .dataframe thead th {\n",
       "        text-align: right;\n",
       "    }\n",
       "</style>\n",
       "<table border=\"1\" class=\"dataframe\">\n",
       "  <thead>\n",
       "    <tr style=\"text-align: right;\">\n",
       "      <th></th>\n",
       "      <th>identity</th>\n",
       "      <th>shared-hashes</th>\n",
       "      <th>median-multiplicity</th>\n",
       "      <th>p-value</th>\n",
       "      <th>query-ID</th>\n",
       "      <th>query-comment</th>\n",
       "      <th>Species</th>\n",
       "      <th>Accession</th>\n",
       "      <th>GCF</th>\n",
       "      <th>ASM</th>\n",
       "      <th>Hash_1</th>\n",
       "      <th>Hash_2</th>\n",
       "      <th>Hash_fr</th>\n",
       "    </tr>\n",
       "  </thead>\n",
       "  <tbody>\n",
       "    <tr>\n",
       "      <th>453</th>\n",
       "      <td>0.999905</td>\n",
       "      <td>998/1000</td>\n",
       "      <td>52</td>\n",
       "      <td>0.0</td>\n",
       "      <td>GCF_001391675.1_6570_6_7_genomic.fna.gz</td>\n",
       "      <td>[164 seqs] NZ_CNKO01000001.1 Mycobacterium tub...</td>\n",
       "      <td>Mycobacterium tuberculosis</td>\n",
       "      <td>NZ_CNKO01000001.1</td>\n",
       "      <td>GCF_001391675.1</td>\n",
       "      <td>6570</td>\n",
       "      <td>998</td>\n",
       "      <td>1000</td>\n",
       "      <td>0.998</td>\n",
       "    </tr>\n",
       "    <tr>\n",
       "      <th>517</th>\n",
       "      <td>0.909686</td>\n",
       "      <td>137/1000</td>\n",
       "      <td>1</td>\n",
       "      <td>0.0</td>\n",
       "      <td>GCF_001451535.1_WH-SGI-V-07427_genomic.fna.gz</td>\n",
       "      <td>[130 seqs] NZ_LLPO01000001.1 Pseudomonas aerug...</td>\n",
       "      <td>Pseudomonas aeruginosa</td>\n",
       "      <td>NZ_LLPO01000001.1</td>\n",
       "      <td>GCF_001451535.1</td>\n",
       "      <td>WH-SGI-V-07427</td>\n",
       "      <td>137</td>\n",
       "      <td>1000</td>\n",
       "      <td>0.137</td>\n",
       "    </tr>\n",
       "  </tbody>\n",
       "</table>\n",
       "</div>"
      ],
      "text/plain": [
       "     identity shared-hashes  median-multiplicity  p-value  \\\n",
       "453  0.999905      998/1000                   52      0.0   \n",
       "517  0.909686      137/1000                    1      0.0   \n",
       "\n",
       "                                          query-ID  \\\n",
       "453        GCF_001391675.1_6570_6_7_genomic.fna.gz   \n",
       "517  GCF_001451535.1_WH-SGI-V-07427_genomic.fna.gz   \n",
       "\n",
       "                                         query-comment  \\\n",
       "453  [164 seqs] NZ_CNKO01000001.1 Mycobacterium tub...   \n",
       "517  [130 seqs] NZ_LLPO01000001.1 Pseudomonas aerug...   \n",
       "\n",
       "                        Species          Accession              GCF  \\\n",
       "453  Mycobacterium tuberculosis  NZ_CNKO01000001.1  GCF_001391675.1   \n",
       "517      Pseudomonas aeruginosa  NZ_LLPO01000001.1  GCF_001451535.1   \n",
       "\n",
       "                ASM  Hash_1  Hash_2  Hash_fr  \n",
       "453            6570     998    1000    0.998  \n",
       "517  WH-SGI-V-07427     137    1000    0.137  "
      ]
     },
     "execution_count": 67,
     "metadata": {},
     "output_type": "execute_result"
    }
   ],
   "source": [
    "df_th.head()"
   ]
  },
  {
   "cell_type": "code",
   "execution_count": null,
   "metadata": {},
   "outputs": [],
   "source": []
  }
 ],
 "metadata": {
  "kernelspec": {
   "display_name": "Python 3",
   "language": "python",
   "name": "python3"
  },
  "language_info": {
   "codemirror_mode": {
    "name": "ipython",
    "version": 3
   },
   "file_extension": ".py",
   "mimetype": "text/x-python",
   "name": "python",
   "nbconvert_exporter": "python",
   "pygments_lexer": "ipython3",
   "version": "3.6.8"
  }
 },
 "nbformat": 4,
 "nbformat_minor": 2
}
